{
 "cells": [
  {
   "cell_type": "code",
   "execution_count": 1,
   "id": "11ca0649-ac66-4927-ab5c-d6af6f3f4ae6",
   "metadata": {},
   "outputs": [],
   "source": [
    "# Import Libraries\n",
    "import numpy as np\n",
    "import pandas as pd\n",
    "import seaborn as sns\n",
    "import matplotlib.pyplot as plt"
   ]
  },
  {
   "cell_type": "code",
   "execution_count": 2,
   "id": "d3cc42a8-3d67-447d-b27d-4c72af2e7000",
   "metadata": {},
   "outputs": [],
   "source": [
    "from ucimlrepo import fetch_ucirepo \n",
    "  \n",
    "# fetch dataset \n",
    "default_of_credit_card_clients = fetch_ucirepo(id=350) \n",
    "  \n",
    "# data (as pandas dataframes) \n",
    "X = default_of_credit_card_clients.data.features \n",
    "y = default_of_credit_card_clients.data.targets \n",
    "  \n",
    "# metadata \n",
    "#print(default_of_credit_card_clients.metadata) \n",
    "  \n",
    "# variable information \n",
    "#print(default_of_credit_card_clients.variables) \n"
   ]
  },
  {
   "cell_type": "code",
   "execution_count": 3,
   "id": "fad484e7-fae9-4fce-b51b-c5aca8b3499c",
   "metadata": {},
   "outputs": [],
   "source": [
    "df_credit = pd.DataFrame(data = X)"
   ]
  },
  {
   "cell_type": "code",
   "execution_count": 4,
   "id": "534ded82-9b9c-41e4-9de6-9e23a28dd168",
   "metadata": {},
   "outputs": [],
   "source": [
    "df_credit['class']= y"
   ]
  },
  {
   "cell_type": "code",
   "execution_count": 5,
   "id": "d77965af-0850-4096-bbe1-5ad98884276d",
   "metadata": {},
   "outputs": [
    {
     "data": {
      "text/plain": [
       "class\n",
       "0    23364\n",
       "1     6636\n",
       "Name: count, dtype: int64"
      ]
     },
     "execution_count": 5,
     "metadata": {},
     "output_type": "execute_result"
    }
   ],
   "source": [
    "# Imbalanced dataset\n",
    "df_credit['class'].value_counts()"
   ]
  },
  {
   "cell_type": "code",
   "execution_count": 6,
   "id": "8d8d5035-e69d-4ad8-9800-361db6226666",
   "metadata": {},
   "outputs": [],
   "source": [
    "# split dataset by default and not default credit clients\n",
    "df_credit1 = df_credit[df_credit['class'] == 1]\n",
    "df_credit0 = df_credit[df_credit['class'] == 0]"
   ]
  },
  {
   "cell_type": "code",
   "execution_count": 7,
   "id": "a64233fa-78a7-4cd7-b9d4-d88ea13db8dc",
   "metadata": {},
   "outputs": [],
   "source": [
    "# Equal Distribution of classes within Credit dataset\n",
    "df_credit1_split = df_credit1.head(6000)\n",
    "df_credit0_split = df_credit0.head(6000)"
   ]
  },
  {
   "cell_type": "code",
   "execution_count": 8,
   "id": "517b6256-bf27-424c-82af-e5d673f2413d",
   "metadata": {},
   "outputs": [],
   "source": [
    "# Equal Distribution of classes within Credit small dataset\n",
    "df_credit1_sm = df_credit1.head(150)\n",
    "df_credit0_sm = df_credit0.head(150)"
   ]
  },
  {
   "cell_type": "code",
   "execution_count": 8,
   "id": "5c81cc9b-f645-45f3-8a91-83daaacc67ea",
   "metadata": {},
   "outputs": [
    {
     "data": {
      "text/html": [
       "<div>\n",
       "<style scoped>\n",
       "    .dataframe tbody tr th:only-of-type {\n",
       "        vertical-align: middle;\n",
       "    }\n",
       "\n",
       "    .dataframe tbody tr th {\n",
       "        vertical-align: top;\n",
       "    }\n",
       "\n",
       "    .dataframe thead th {\n",
       "        text-align: right;\n",
       "    }\n",
       "</style>\n",
       "<table border=\"1\" class=\"dataframe\">\n",
       "  <thead>\n",
       "    <tr style=\"text-align: right;\">\n",
       "      <th></th>\n",
       "      <th>X1</th>\n",
       "      <th>X2</th>\n",
       "      <th>X3</th>\n",
       "      <th>X4</th>\n",
       "      <th>X5</th>\n",
       "      <th>X6</th>\n",
       "      <th>X7</th>\n",
       "      <th>X8</th>\n",
       "      <th>X9</th>\n",
       "      <th>X10</th>\n",
       "      <th>...</th>\n",
       "      <th>X15</th>\n",
       "      <th>X16</th>\n",
       "      <th>X17</th>\n",
       "      <th>X18</th>\n",
       "      <th>X19</th>\n",
       "      <th>X20</th>\n",
       "      <th>X21</th>\n",
       "      <th>X22</th>\n",
       "      <th>X23</th>\n",
       "      <th>class</th>\n",
       "    </tr>\n",
       "  </thead>\n",
       "  <tbody>\n",
       "    <tr>\n",
       "      <th>count</th>\n",
       "      <td>6000.000000</td>\n",
       "      <td>6000.000000</td>\n",
       "      <td>6000.000000</td>\n",
       "      <td>6000.000000</td>\n",
       "      <td>6000.000000</td>\n",
       "      <td>6000.000000</td>\n",
       "      <td>6000.000000</td>\n",
       "      <td>6000.000000</td>\n",
       "      <td>6000.000000</td>\n",
       "      <td>6000.000000</td>\n",
       "      <td>...</td>\n",
       "      <td>6000.000000</td>\n",
       "      <td>6000.00000</td>\n",
       "      <td>6000.000000</td>\n",
       "      <td>6000.000000</td>\n",
       "      <td>6000.000000</td>\n",
       "      <td>6000.000000</td>\n",
       "      <td>6000.000000</td>\n",
       "      <td>6000.00000</td>\n",
       "      <td>6000.000000</td>\n",
       "      <td>6000.0</td>\n",
       "    </tr>\n",
       "    <tr>\n",
       "      <th>mean</th>\n",
       "      <td>130346.280000</td>\n",
       "      <td>1.575000</td>\n",
       "      <td>1.886333</td>\n",
       "      <td>1.532833</td>\n",
       "      <td>35.584333</td>\n",
       "      <td>0.666167</td>\n",
       "      <td>0.453667</td>\n",
       "      <td>0.357333</td>\n",
       "      <td>0.242667</td>\n",
       "      <td>0.168167</td>\n",
       "      <td>...</td>\n",
       "      <td>41729.236667</td>\n",
       "      <td>39401.08400</td>\n",
       "      <td>38123.879333</td>\n",
       "      <td>3376.308500</td>\n",
       "      <td>3382.900667</td>\n",
       "      <td>3290.869667</td>\n",
       "      <td>3160.334833</td>\n",
       "      <td>3272.41850</td>\n",
       "      <td>3374.195667</td>\n",
       "      <td>1.0</td>\n",
       "    </tr>\n",
       "    <tr>\n",
       "      <th>std</th>\n",
       "      <td>115404.994285</td>\n",
       "      <td>0.494384</td>\n",
       "      <td>0.720532</td>\n",
       "      <td>0.525644</td>\n",
       "      <td>9.674269</td>\n",
       "      <td>1.381077</td>\n",
       "      <td>1.501409</td>\n",
       "      <td>1.499785</td>\n",
       "      <td>1.493927</td>\n",
       "      <td>1.473855</td>\n",
       "      <td>...</td>\n",
       "      <td>63451.363699</td>\n",
       "      <td>60825.34094</td>\n",
       "      <td>58991.066456</td>\n",
       "      <td>9531.719736</td>\n",
       "      <td>11515.402462</td>\n",
       "      <td>11083.332606</td>\n",
       "      <td>11468.261454</td>\n",
       "      <td>12266.79479</td>\n",
       "      <td>12992.399325</td>\n",
       "      <td>0.0</td>\n",
       "    </tr>\n",
       "    <tr>\n",
       "      <th>min</th>\n",
       "      <td>10000.000000</td>\n",
       "      <td>1.000000</td>\n",
       "      <td>1.000000</td>\n",
       "      <td>0.000000</td>\n",
       "      <td>21.000000</td>\n",
       "      <td>-2.000000</td>\n",
       "      <td>-2.000000</td>\n",
       "      <td>-2.000000</td>\n",
       "      <td>-2.000000</td>\n",
       "      <td>-2.000000</td>\n",
       "      <td>...</td>\n",
       "      <td>-65167.000000</td>\n",
       "      <td>-46627.00000</td>\n",
       "      <td>-339603.000000</td>\n",
       "      <td>0.000000</td>\n",
       "      <td>0.000000</td>\n",
       "      <td>0.000000</td>\n",
       "      <td>0.000000</td>\n",
       "      <td>0.00000</td>\n",
       "      <td>0.000000</td>\n",
       "      <td>1.0</td>\n",
       "    </tr>\n",
       "    <tr>\n",
       "      <th>25%</th>\n",
       "      <td>50000.000000</td>\n",
       "      <td>1.000000</td>\n",
       "      <td>1.000000</td>\n",
       "      <td>1.000000</td>\n",
       "      <td>28.000000</td>\n",
       "      <td>0.000000</td>\n",
       "      <td>-1.000000</td>\n",
       "      <td>-1.000000</td>\n",
       "      <td>-1.000000</td>\n",
       "      <td>-1.000000</td>\n",
       "      <td>...</td>\n",
       "      <td>2287.250000</td>\n",
       "      <td>1485.75000</td>\n",
       "      <td>1147.750000</td>\n",
       "      <td>0.000000</td>\n",
       "      <td>0.000000</td>\n",
       "      <td>0.000000</td>\n",
       "      <td>0.000000</td>\n",
       "      <td>0.00000</td>\n",
       "      <td>0.000000</td>\n",
       "      <td>1.0</td>\n",
       "    </tr>\n",
       "    <tr>\n",
       "      <th>50%</th>\n",
       "      <td>90000.000000</td>\n",
       "      <td>2.000000</td>\n",
       "      <td>2.000000</td>\n",
       "      <td>2.000000</td>\n",
       "      <td>34.000000</td>\n",
       "      <td>1.000000</td>\n",
       "      <td>0.000000</td>\n",
       "      <td>0.000000</td>\n",
       "      <td>0.000000</td>\n",
       "      <td>0.000000</td>\n",
       "      <td>...</td>\n",
       "      <td>19123.000000</td>\n",
       "      <td>18507.50000</td>\n",
       "      <td>18089.500000</td>\n",
       "      <td>1641.000000</td>\n",
       "      <td>1527.500000</td>\n",
       "      <td>1200.000000</td>\n",
       "      <td>1000.000000</td>\n",
       "      <td>1000.00000</td>\n",
       "      <td>1000.000000</td>\n",
       "      <td>1.0</td>\n",
       "    </tr>\n",
       "    <tr>\n",
       "      <th>75%</th>\n",
       "      <td>200000.000000</td>\n",
       "      <td>2.000000</td>\n",
       "      <td>2.000000</td>\n",
       "      <td>2.000000</td>\n",
       "      <td>42.000000</td>\n",
       "      <td>2.000000</td>\n",
       "      <td>2.000000</td>\n",
       "      <td>2.000000</td>\n",
       "      <td>2.000000</td>\n",
       "      <td>0.000000</td>\n",
       "      <td>...</td>\n",
       "      <td>50008.250000</td>\n",
       "      <td>47764.00000</td>\n",
       "      <td>47251.750000</td>\n",
       "      <td>3459.000000</td>\n",
       "      <td>3300.000000</td>\n",
       "      <td>3000.000000</td>\n",
       "      <td>2859.000000</td>\n",
       "      <td>3000.00000</td>\n",
       "      <td>2923.000000</td>\n",
       "      <td>1.0</td>\n",
       "    </tr>\n",
       "    <tr>\n",
       "      <th>max</th>\n",
       "      <td>740000.000000</td>\n",
       "      <td>2.000000</td>\n",
       "      <td>6.000000</td>\n",
       "      <td>3.000000</td>\n",
       "      <td>75.000000</td>\n",
       "      <td>8.000000</td>\n",
       "      <td>7.000000</td>\n",
       "      <td>8.000000</td>\n",
       "      <td>8.000000</td>\n",
       "      <td>8.000000</td>\n",
       "      <td>...</td>\n",
       "      <td>548020.000000</td>\n",
       "      <td>547880.00000</td>\n",
       "      <td>514975.000000</td>\n",
       "      <td>300000.000000</td>\n",
       "      <td>358689.000000</td>\n",
       "      <td>234456.000000</td>\n",
       "      <td>432130.000000</td>\n",
       "      <td>332000.00000</td>\n",
       "      <td>345293.000000</td>\n",
       "      <td>1.0</td>\n",
       "    </tr>\n",
       "  </tbody>\n",
       "</table>\n",
       "<p>8 rows × 24 columns</p>\n",
       "</div>"
      ],
      "text/plain": [
       "                  X1           X2           X3           X4           X5  \\\n",
       "count    6000.000000  6000.000000  6000.000000  6000.000000  6000.000000   \n",
       "mean   130346.280000     1.575000     1.886333     1.532833    35.584333   \n",
       "std    115404.994285     0.494384     0.720532     0.525644     9.674269   \n",
       "min     10000.000000     1.000000     1.000000     0.000000    21.000000   \n",
       "25%     50000.000000     1.000000     1.000000     1.000000    28.000000   \n",
       "50%     90000.000000     2.000000     2.000000     2.000000    34.000000   \n",
       "75%    200000.000000     2.000000     2.000000     2.000000    42.000000   \n",
       "max    740000.000000     2.000000     6.000000     3.000000    75.000000   \n",
       "\n",
       "                X6           X7           X8           X9          X10  ...  \\\n",
       "count  6000.000000  6000.000000  6000.000000  6000.000000  6000.000000  ...   \n",
       "mean      0.666167     0.453667     0.357333     0.242667     0.168167  ...   \n",
       "std       1.381077     1.501409     1.499785     1.493927     1.473855  ...   \n",
       "min      -2.000000    -2.000000    -2.000000    -2.000000    -2.000000  ...   \n",
       "25%       0.000000    -1.000000    -1.000000    -1.000000    -1.000000  ...   \n",
       "50%       1.000000     0.000000     0.000000     0.000000     0.000000  ...   \n",
       "75%       2.000000     2.000000     2.000000     2.000000     0.000000  ...   \n",
       "max       8.000000     7.000000     8.000000     8.000000     8.000000  ...   \n",
       "\n",
       "                 X15           X16            X17            X18  \\\n",
       "count    6000.000000    6000.00000    6000.000000    6000.000000   \n",
       "mean    41729.236667   39401.08400   38123.879333    3376.308500   \n",
       "std     63451.363699   60825.34094   58991.066456    9531.719736   \n",
       "min    -65167.000000  -46627.00000 -339603.000000       0.000000   \n",
       "25%      2287.250000    1485.75000    1147.750000       0.000000   \n",
       "50%     19123.000000   18507.50000   18089.500000    1641.000000   \n",
       "75%     50008.250000   47764.00000   47251.750000    3459.000000   \n",
       "max    548020.000000  547880.00000  514975.000000  300000.000000   \n",
       "\n",
       "                 X19            X20            X21           X22  \\\n",
       "count    6000.000000    6000.000000    6000.000000    6000.00000   \n",
       "mean     3382.900667    3290.869667    3160.334833    3272.41850   \n",
       "std     11515.402462   11083.332606   11468.261454   12266.79479   \n",
       "min         0.000000       0.000000       0.000000       0.00000   \n",
       "25%         0.000000       0.000000       0.000000       0.00000   \n",
       "50%      1527.500000    1200.000000    1000.000000    1000.00000   \n",
       "75%      3300.000000    3000.000000    2859.000000    3000.00000   \n",
       "max    358689.000000  234456.000000  432130.000000  332000.00000   \n",
       "\n",
       "                 X23   class  \n",
       "count    6000.000000  6000.0  \n",
       "mean     3374.195667     1.0  \n",
       "std     12992.399325     0.0  \n",
       "min         0.000000     1.0  \n",
       "25%         0.000000     1.0  \n",
       "50%      1000.000000     1.0  \n",
       "75%      2923.000000     1.0  \n",
       "max    345293.000000     1.0  \n",
       "\n",
       "[8 rows x 24 columns]"
      ]
     },
     "execution_count": 8,
     "metadata": {},
     "output_type": "execute_result"
    }
   ],
   "source": [
    "df_credit1_split.describe()"
   ]
  },
  {
   "cell_type": "code",
   "execution_count": 9,
   "id": "2428357c-1f2b-4de4-b1b4-466b2ef39920",
   "metadata": {},
   "outputs": [],
   "source": [
    "# merge subsets of data together\n",
    "df_credit10 = pd.concat( [df_credit1_split,df_credit0_split] ,ignore_index = True)"
   ]
  },
  {
   "cell_type": "code",
   "execution_count": 10,
   "id": "bf68090b-72c3-4caa-8500-b73c88bb1bb3",
   "metadata": {},
   "outputs": [],
   "source": [
    "#small credit subset \n",
    "df_credit10_sm = pd.concat( [df_credit1_sm,df_credit0_sm] ,ignore_index = True)"
   ]
  },
  {
   "cell_type": "code",
   "execution_count": 10,
   "id": "60e4815b-45fa-4dd2-8bcc-bd0e4ff13f21",
   "metadata": {},
   "outputs": [
    {
     "data": {
      "text/html": [
       "<div>\n",
       "<style scoped>\n",
       "    .dataframe tbody tr th:only-of-type {\n",
       "        vertical-align: middle;\n",
       "    }\n",
       "\n",
       "    .dataframe tbody tr th {\n",
       "        vertical-align: top;\n",
       "    }\n",
       "\n",
       "    .dataframe thead th {\n",
       "        text-align: right;\n",
       "    }\n",
       "</style>\n",
       "<table border=\"1\" class=\"dataframe\">\n",
       "  <thead>\n",
       "    <tr style=\"text-align: right;\">\n",
       "      <th></th>\n",
       "      <th>X1</th>\n",
       "      <th>X2</th>\n",
       "      <th>X3</th>\n",
       "      <th>X4</th>\n",
       "      <th>X5</th>\n",
       "      <th>X6</th>\n",
       "      <th>X7</th>\n",
       "      <th>X8</th>\n",
       "      <th>X9</th>\n",
       "      <th>X10</th>\n",
       "      <th>...</th>\n",
       "      <th>X15</th>\n",
       "      <th>X16</th>\n",
       "      <th>X17</th>\n",
       "      <th>X18</th>\n",
       "      <th>X19</th>\n",
       "      <th>X20</th>\n",
       "      <th>X21</th>\n",
       "      <th>X22</th>\n",
       "      <th>X23</th>\n",
       "      <th>class</th>\n",
       "    </tr>\n",
       "  </thead>\n",
       "  <tbody>\n",
       "    <tr>\n",
       "      <th>count</th>\n",
       "      <td>12000.000000</td>\n",
       "      <td>12000.000000</td>\n",
       "      <td>12000.000000</td>\n",
       "      <td>12000.00000</td>\n",
       "      <td>12000.000000</td>\n",
       "      <td>12000.000000</td>\n",
       "      <td>12000.000000</td>\n",
       "      <td>12000.000000</td>\n",
       "      <td>12000.000000</td>\n",
       "      <td>12000.000000</td>\n",
       "      <td>...</td>\n",
       "      <td>12000.00000</td>\n",
       "      <td>12000.000000</td>\n",
       "      <td>12000.000000</td>\n",
       "      <td>12000.000000</td>\n",
       "      <td>1.200000e+04</td>\n",
       "      <td>12000.000000</td>\n",
       "      <td>12000.000000</td>\n",
       "      <td>12000.000000</td>\n",
       "      <td>12000.000000</td>\n",
       "      <td>12000.000000</td>\n",
       "    </tr>\n",
       "    <tr>\n",
       "      <th>mean</th>\n",
       "      <td>152204.473333</td>\n",
       "      <td>1.581500</td>\n",
       "      <td>1.849083</td>\n",
       "      <td>1.55475</td>\n",
       "      <td>35.502417</td>\n",
       "      <td>0.246250</td>\n",
       "      <td>0.078083</td>\n",
       "      <td>0.026833</td>\n",
       "      <td>-0.058000</td>\n",
       "      <td>-0.101667</td>\n",
       "      <td>...</td>\n",
       "      <td>41171.91000</td>\n",
       "      <td>39356.580750</td>\n",
       "      <td>37986.083250</td>\n",
       "      <td>4786.867667</td>\n",
       "      <td>4.963574e+03</td>\n",
       "      <td>4090.299167</td>\n",
       "      <td>4132.194333</td>\n",
       "      <td>4156.579250</td>\n",
       "      <td>4539.841000</td>\n",
       "      <td>0.500000</td>\n",
       "    </tr>\n",
       "    <tr>\n",
       "      <th>std</th>\n",
       "      <td>126233.528514</td>\n",
       "      <td>0.493334</td>\n",
       "      <td>0.753340</td>\n",
       "      <td>0.52649</td>\n",
       "      <td>9.430787</td>\n",
       "      <td>1.263821</td>\n",
       "      <td>1.343864</td>\n",
       "      <td>1.339563</td>\n",
       "      <td>1.301644</td>\n",
       "      <td>1.279961</td>\n",
       "      <td>...</td>\n",
       "      <td>62760.58811</td>\n",
       "      <td>60475.780013</td>\n",
       "      <td>59569.619105</td>\n",
       "      <td>13336.046461</td>\n",
       "      <td>2.182591e+04</td>\n",
       "      <td>14944.514524</td>\n",
       "      <td>13683.416416</td>\n",
       "      <td>13821.354344</td>\n",
       "      <td>16560.260409</td>\n",
       "      <td>0.500021</td>\n",
       "    </tr>\n",
       "    <tr>\n",
       "      <th>min</th>\n",
       "      <td>10000.000000</td>\n",
       "      <td>1.000000</td>\n",
       "      <td>0.000000</td>\n",
       "      <td>0.00000</td>\n",
       "      <td>21.000000</td>\n",
       "      <td>-2.000000</td>\n",
       "      <td>-2.000000</td>\n",
       "      <td>-2.000000</td>\n",
       "      <td>-2.000000</td>\n",
       "      <td>-2.000000</td>\n",
       "      <td>...</td>\n",
       "      <td>-170000.00000</td>\n",
       "      <td>-46627.000000</td>\n",
       "      <td>-339603.000000</td>\n",
       "      <td>0.000000</td>\n",
       "      <td>0.000000e+00</td>\n",
       "      <td>0.000000</td>\n",
       "      <td>0.000000</td>\n",
       "      <td>0.000000</td>\n",
       "      <td>0.000000</td>\n",
       "      <td>0.000000</td>\n",
       "    </tr>\n",
       "    <tr>\n",
       "      <th>25%</th>\n",
       "      <td>50000.000000</td>\n",
       "      <td>1.000000</td>\n",
       "      <td>1.000000</td>\n",
       "      <td>1.00000</td>\n",
       "      <td>28.000000</td>\n",
       "      <td>-1.000000</td>\n",
       "      <td>-1.000000</td>\n",
       "      <td>-1.000000</td>\n",
       "      <td>-1.000000</td>\n",
       "      <td>-1.000000</td>\n",
       "      <td>...</td>\n",
       "      <td>2097.75000</td>\n",
       "      <td>1548.750000</td>\n",
       "      <td>1050.000000</td>\n",
       "      <td>390.000000</td>\n",
       "      <td>3.800000e+02</td>\n",
       "      <td>51.500000</td>\n",
       "      <td>0.000000</td>\n",
       "      <td>0.000000</td>\n",
       "      <td>0.000000</td>\n",
       "      <td>0.000000</td>\n",
       "    </tr>\n",
       "    <tr>\n",
       "      <th>50%</th>\n",
       "      <td>120000.000000</td>\n",
       "      <td>2.000000</td>\n",
       "      <td>2.000000</td>\n",
       "      <td>2.00000</td>\n",
       "      <td>34.000000</td>\n",
       "      <td>0.000000</td>\n",
       "      <td>0.000000</td>\n",
       "      <td>0.000000</td>\n",
       "      <td>0.000000</td>\n",
       "      <td>0.000000</td>\n",
       "      <td>...</td>\n",
       "      <td>18733.50000</td>\n",
       "      <td>18104.500000</td>\n",
       "      <td>17243.000000</td>\n",
       "      <td>2000.000000</td>\n",
       "      <td>1.891000e+03</td>\n",
       "      <td>1400.000000</td>\n",
       "      <td>1200.000000</td>\n",
       "      <td>1300.000000</td>\n",
       "      <td>1153.000000</td>\n",
       "      <td>0.500000</td>\n",
       "    </tr>\n",
       "    <tr>\n",
       "      <th>75%</th>\n",
       "      <td>220000.000000</td>\n",
       "      <td>2.000000</td>\n",
       "      <td>2.000000</td>\n",
       "      <td>2.00000</td>\n",
       "      <td>42.000000</td>\n",
       "      <td>1.000000</td>\n",
       "      <td>0.000000</td>\n",
       "      <td>0.000000</td>\n",
       "      <td>0.000000</td>\n",
       "      <td>0.000000</td>\n",
       "      <td>...</td>\n",
       "      <td>49939.25000</td>\n",
       "      <td>48631.500000</td>\n",
       "      <td>47627.500000</td>\n",
       "      <td>4505.500000</td>\n",
       "      <td>4.150000e+03</td>\n",
       "      <td>3594.000000</td>\n",
       "      <td>3500.000000</td>\n",
       "      <td>3597.000000</td>\n",
       "      <td>3500.000000</td>\n",
       "      <td>1.000000</td>\n",
       "    </tr>\n",
       "    <tr>\n",
       "      <th>max</th>\n",
       "      <td>1000000.000000</td>\n",
       "      <td>2.000000</td>\n",
       "      <td>6.000000</td>\n",
       "      <td>3.00000</td>\n",
       "      <td>75.000000</td>\n",
       "      <td>8.000000</td>\n",
       "      <td>7.000000</td>\n",
       "      <td>8.000000</td>\n",
       "      <td>8.000000</td>\n",
       "      <td>8.000000</td>\n",
       "      <td>...</td>\n",
       "      <td>891586.00000</td>\n",
       "      <td>927171.000000</td>\n",
       "      <td>961664.000000</td>\n",
       "      <td>368199.000000</td>\n",
       "      <td>1.684259e+06</td>\n",
       "      <td>896040.000000</td>\n",
       "      <td>497000.000000</td>\n",
       "      <td>379267.000000</td>\n",
       "      <td>528666.000000</td>\n",
       "      <td>1.000000</td>\n",
       "    </tr>\n",
       "  </tbody>\n",
       "</table>\n",
       "<p>8 rows × 24 columns</p>\n",
       "</div>"
      ],
      "text/plain": [
       "                   X1            X2            X3           X4            X5  \\\n",
       "count    12000.000000  12000.000000  12000.000000  12000.00000  12000.000000   \n",
       "mean    152204.473333      1.581500      1.849083      1.55475     35.502417   \n",
       "std     126233.528514      0.493334      0.753340      0.52649      9.430787   \n",
       "min      10000.000000      1.000000      0.000000      0.00000     21.000000   \n",
       "25%      50000.000000      1.000000      1.000000      1.00000     28.000000   \n",
       "50%     120000.000000      2.000000      2.000000      2.00000     34.000000   \n",
       "75%     220000.000000      2.000000      2.000000      2.00000     42.000000   \n",
       "max    1000000.000000      2.000000      6.000000      3.00000     75.000000   \n",
       "\n",
       "                 X6            X7            X8            X9           X10  \\\n",
       "count  12000.000000  12000.000000  12000.000000  12000.000000  12000.000000   \n",
       "mean       0.246250      0.078083      0.026833     -0.058000     -0.101667   \n",
       "std        1.263821      1.343864      1.339563      1.301644      1.279961   \n",
       "min       -2.000000     -2.000000     -2.000000     -2.000000     -2.000000   \n",
       "25%       -1.000000     -1.000000     -1.000000     -1.000000     -1.000000   \n",
       "50%        0.000000      0.000000      0.000000      0.000000      0.000000   \n",
       "75%        1.000000      0.000000      0.000000      0.000000      0.000000   \n",
       "max        8.000000      7.000000      8.000000      8.000000      8.000000   \n",
       "\n",
       "       ...           X15            X16            X17            X18  \\\n",
       "count  ...   12000.00000   12000.000000   12000.000000   12000.000000   \n",
       "mean   ...   41171.91000   39356.580750   37986.083250    4786.867667   \n",
       "std    ...   62760.58811   60475.780013   59569.619105   13336.046461   \n",
       "min    ... -170000.00000  -46627.000000 -339603.000000       0.000000   \n",
       "25%    ...    2097.75000    1548.750000    1050.000000     390.000000   \n",
       "50%    ...   18733.50000   18104.500000   17243.000000    2000.000000   \n",
       "75%    ...   49939.25000   48631.500000   47627.500000    4505.500000   \n",
       "max    ...  891586.00000  927171.000000  961664.000000  368199.000000   \n",
       "\n",
       "                X19            X20            X21            X22  \\\n",
       "count  1.200000e+04   12000.000000   12000.000000   12000.000000   \n",
       "mean   4.963574e+03    4090.299167    4132.194333    4156.579250   \n",
       "std    2.182591e+04   14944.514524   13683.416416   13821.354344   \n",
       "min    0.000000e+00       0.000000       0.000000       0.000000   \n",
       "25%    3.800000e+02      51.500000       0.000000       0.000000   \n",
       "50%    1.891000e+03    1400.000000    1200.000000    1300.000000   \n",
       "75%    4.150000e+03    3594.000000    3500.000000    3597.000000   \n",
       "max    1.684259e+06  896040.000000  497000.000000  379267.000000   \n",
       "\n",
       "                 X23         class  \n",
       "count   12000.000000  12000.000000  \n",
       "mean     4539.841000      0.500000  \n",
       "std     16560.260409      0.500021  \n",
       "min         0.000000      0.000000  \n",
       "25%         0.000000      0.000000  \n",
       "50%      1153.000000      0.500000  \n",
       "75%      3500.000000      1.000000  \n",
       "max    528666.000000      1.000000  \n",
       "\n",
       "[8 rows x 24 columns]"
      ]
     },
     "execution_count": 10,
     "metadata": {},
     "output_type": "execute_result"
    }
   ],
   "source": [
    "df_credit10.describe()"
   ]
  },
  {
   "cell_type": "markdown",
   "id": "5fbc5e60-f970-4187-b034-5ddc69918fd1",
   "metadata": {},
   "source": [
    "# Data Preprocessing"
   ]
  },
  {
   "cell_type": "code",
   "execution_count": 11,
   "id": "3dbc77d0-2a34-4d73-9696-2941e2d2a0ca",
   "metadata": {},
   "outputs": [],
   "source": [
    "# Divide into test and training set\n",
    "from sklearn.model_selection import train_test_split\n",
    "X_train, X_test, y_train, y_test = train_test_split(df_credit10.iloc[:,:-1].values, df_credit10.iloc[:,-1].values, test_size = 0.2, random_state = 0)"
   ]
  },
  {
   "cell_type": "code",
   "execution_count": 12,
   "id": "dd92351f-f26d-4091-a0ed-bdd0e0a8992b",
   "metadata": {},
   "outputs": [],
   "source": [
    "# Apply standard scaling to training and test data to normalize data\n",
    "from sklearn.preprocessing import StandardScaler\n",
    "sc = StandardScaler()\n",
    "X_train_sc = sc.fit_transform(X_train)\n",
    "X_test_sc = sc.transform(X_test)\n",
    "X_sc = sc.transform(df_credit10.iloc[:,:-1].values)\n",
    "X_small_cd = sc.transform(df_credit10_sm.iloc[:,:-1].values)"
   ]
  },
  {
   "cell_type": "code",
   "execution_count": 99,
   "id": "aedd37d1-1370-422a-9e18-3127eff3e6b7",
   "metadata": {},
   "outputs": [],
   "source": [
    "# normalized features across entire dataset\n",
    "X_sc = sc.fit_transform(df_credit10.iloc[:,:-1].values)"
   ]
  },
  {
   "cell_type": "code",
   "execution_count": 13,
   "id": "1ca6afc9-ac11-44f6-9e85-9b6c10a1c7a9",
   "metadata": {},
   "outputs": [],
   "source": [
    "# class variables\n",
    "y10 = df_credit10.iloc[:,-1].values\n",
    "y10 = y10.reshape(len(y10),1)\n",
    "y_s = df_credit10_sm.iloc[:,-1].values\n",
    "y_s = y_s.reshape(len(y_s),1)"
   ]
  },
  {
   "cell_type": "code",
   "execution_count": 17,
   "id": "e072134b-6a67-4bd7-8f13-bbab1f8a4822",
   "metadata": {},
   "outputs": [
    {
     "data": {
      "text/plain": [
       "(array([0, 1], dtype=int64), array([4783, 4817], dtype=int64))"
      ]
     },
     "execution_count": 17,
     "metadata": {},
     "output_type": "execute_result"
    }
   ],
   "source": [
    "# class distribution value counts on training data\n",
    "np.unique(y_train, return_counts = True)\n"
   ]
  },
  {
   "cell_type": "code",
   "execution_count": 15,
   "id": "3f3b09d7-ed05-431a-b8aa-081de52b5f4d",
   "metadata": {},
   "outputs": [
    {
     "data": {
      "text/plain": [
       "(9600, 23)"
      ]
     },
     "execution_count": 15,
     "metadata": {},
     "output_type": "execute_result"
    }
   ],
   "source": [
    "X_train.shape"
   ]
  },
  {
   "cell_type": "markdown",
   "id": "75baf21e-3856-4ce9-b333-8538acc8bc72",
   "metadata": {},
   "source": [
    "# Defined Model Functions"
   ]
  },
  {
   "cell_type": "code",
   "execution_count": 25,
   "id": "e1670e83-3147-4a9c-837a-9350dec20566",
   "metadata": {},
   "outputs": [],
   "source": [
    "# Defined functions\n",
    "def sigmoid(x):\n",
    "    x = np.clip(x, -500, 500)\n",
    "    result = 1 / (1 + np.exp(-x))\n",
    "    return result   \n",
    "    #max_x = np.max(x)\n",
    "    #result = np.exp(x - max_x) / np.sum(np.exp(x - max_x))\n",
    "    #return result\n",
    "\n",
    "def sigmoid_derivative(x):\n",
    "    smallvalue = 1e-5\n",
    "    return x * (1 - x) + smallvalue\n",
    "    #return x * (1 - x) \n",
    "\n",
    "def minimize_loss(output,target):\n",
    "    return np.sum( 1/2 * np.square(target-output) )\n",
    "\n",
    "def predictions (output):\n",
    "    predictions = np.zeros_like(output)\n",
    "    for i in range(len(output)):\n",
    "        if output[i] > 0.5:\n",
    "            predictions[i] = 1\n",
    "        else: \n",
    "            predictions[i] = 0\n",
    "    return predictions\n"
   ]
  },
  {
   "cell_type": "code",
   "execution_count": 26,
   "id": "fde98085-e997-4e17-a950-99229d9466a2",
   "metadata": {},
   "outputs": [],
   "source": [
    "# Neural Network function retreiving optimized weights and biases\n",
    "def neural_network_fit(X,y1):\n",
    "\n",
    "    # Initialize weights and biases\n",
    "    input_neurons = 23\n",
    "    hidden_neurons = 23\n",
    "    output_neurons = 1\n",
    "    \n",
    "    np.random.seed(42)\n",
    "    W1 = np.random.uniform(size=(input_neurons, hidden_neurons))\n",
    "    b1 = np.random.uniform(size=(1, hidden_neurons))\n",
    "    W2 = np.random.uniform(size=(hidden_neurons, output_neurons))\n",
    "    b2 = np.random.uniform(size=(1, output_neurons))\n",
    "    y1 = y1.reshape(len(y1),1)\n",
    "    \n",
    "    # Training parameters\n",
    "    learning_rate = 0.5\n",
    "    epochs = 15000\n",
    "    \n",
    "    # Training loop\n",
    "    for epoch in range(epochs):\n",
    "        # Forward propagation\n",
    "        hidden_input = np.dot(X, W1) + b1\n",
    "        hidden_output = sigmoid(hidden_input)  \n",
    "        final_input = np.dot(hidden_output, W2) + b2\n",
    "        final_output = sigmoid(final_input)\n",
    "            \n",
    "        # Calculate error\n",
    "        error = y1 - final_output\n",
    "        \n",
    "        # Calculate loss\n",
    "        loss = minimize_loss(final_output, y1)\n",
    "        if epoch % 1000 == 0:        \n",
    "            print(f\"loss is {loss}\")\n",
    "            #print(f\"error is {error}\")\n",
    "            \n",
    "        # Backpropagation\n",
    "        bp_output = error * sigmoid_derivative(final_output)\n",
    "        output_bp_grad = bp_output.T.dot(hidden_output)\n",
    "        error_hidden_layer = bp_output.dot(W2.T)\n",
    "\n",
    "        bp_hidden_layer = error_hidden_layer * sigmoid_derivative(hidden_output)\n",
    "\n",
    "        \n",
    "        # Update weights and biases using gradient descent\n",
    "        W2 += output_bp_grad.T * learning_rate\n",
    "        b2 += np.sum(bp_output, axis=0, keepdims=True) * learning_rate\n",
    "        W1 += X.T.dot(bp_hidden_layer) * learning_rate\n",
    "        b1 += np.sum(bp_hidden_layer, axis=0, keepdims=True) * learning_rate\n",
    "\n",
    "    print(\"Output after training:\")\n",
    "    return W1,W2,b1,b2\n",
    "    #return final_output"
   ]
  },
  {
   "cell_type": "code",
   "execution_count": 27,
   "id": "41d0aa0d-6349-4e96-8808-ffb6a4a5cab5",
   "metadata": {},
   "outputs": [],
   "source": [
    "# functions for predicting class labels\n",
    "def neural_network_predict(X,w1,w2,b1,b2):\n",
    "    # Forward propagation\n",
    "    h_input = np.dot(X, w1) + b1\n",
    "    h_output = sigmoid(h_input)   \n",
    "    f_input = np.dot(h_output, w2) + b2\n",
    "    f_output = sigmoid(f_input)\n",
    "    return predictions(f_output)"
   ]
  },
  {
   "cell_type": "code",
   "execution_count": 42,
   "id": "1e1a0706-0a21-4e03-9690-bc01144198e4",
   "metadata": {},
   "outputs": [
    {
     "name": "stdout",
     "output_type": "stream",
     "text": [
      "loss is 2112.5997746542716\n",
      "loss is 1365.5926416385803\n",
      "loss is 1205.9492731910098\n",
      "loss is 1134.1523706180103\n",
      "loss is 1131.1943970625994\n",
      "loss is 1123.956165482349\n",
      "loss is 1159.303669046914\n",
      "loss is 1109.6241012593239\n",
      "loss is 1095.1563987597945\n",
      "loss is 1096.8063753274273\n",
      "loss is 1082.5408740301914\n",
      "loss is 1087.253345641511\n",
      "loss is 1068.1480152949084\n",
      "loss is 1089.8984883302958\n",
      "loss is 1092.3904107711774\n",
      "Output after training:\n"
     ]
    }
   ],
   "source": [
    "# Training data fit function\n",
    "W_n1, W_n2, b_n1,b_n2 = neural_network_fit(X_train_sc, y_train)"
   ]
  },
  {
   "cell_type": "code",
   "execution_count": 31,
   "id": "f4cdf54d-293e-42da-b63d-8bd362b3421b",
   "metadata": {},
   "outputs": [
    {
     "name": "stdout",
     "output_type": "stream",
     "text": [
      "loss is 66.77935293195712\n",
      "loss is 5.023224245521613\n",
      "loss is 4.979737917575211\n",
      "loss is 4.508128245899158\n",
      "loss is 4.474435177426638\n",
      "loss is 3.5154428750778193\n",
      "loss is 3.5074218037436777\n",
      "loss is 3.5051026358041515\n",
      "loss is 3.5039726976749326\n",
      "loss is 3.5032886515245565\n",
      "loss is 3.502820486499744\n",
      "loss is 3.5024763721198475\n",
      "loss is 3.5022113838573556\n",
      "loss is 3.502000362672882\n",
      "loss is 3.5018278040466413\n",
      "Output after training:\n"
     ]
    }
   ],
   "source": [
    "# fit function on smaller dataset \n",
    "W_sm1, W_sm2, b_sm1,b_sm2 = neural_network_fit(X_small_cd, y_s)"
   ]
  },
  {
   "cell_type": "code",
   "execution_count": 32,
   "id": "da3dd034-7cbf-46e2-87f6-01b536448b99",
   "metadata": {},
   "outputs": [],
   "source": [
    "# prediction on smaller dataset\n",
    "y_pred_sm = neural_network_predict(X_small_cd,W_sm1, W_sm2, b_sm1,b_sm2)"
   ]
  },
  {
   "cell_type": "code",
   "execution_count": 43,
   "id": "5b223fe5-e285-4816-9c4f-42e912cd646d",
   "metadata": {},
   "outputs": [],
   "source": [
    "# prediction on training set\n",
    "y_pred_train = neural_network_predict(X_train_sc,W_n1, W_n2, b_n1,b_n2)"
   ]
  },
  {
   "cell_type": "code",
   "execution_count": 44,
   "id": "5759d0ee-8a4a-4e14-9c0b-04e1d416d975",
   "metadata": {},
   "outputs": [],
   "source": [
    "# prediction on test results\n",
    "y_pred_test = neural_network_predict(X_test_sc,W_n1, W_n2, b_n1,b_n2)"
   ]
  },
  {
   "cell_type": "markdown",
   "id": "ab4d3fb9-95a7-4b2d-affa-af398b141c37",
   "metadata": {},
   "source": [
    "# Model Evaluation and Accuracy"
   ]
  },
  {
   "cell_type": "code",
   "execution_count": 35,
   "id": "57891afc-f94e-4a1c-a96c-b406402a7908",
   "metadata": {},
   "outputs": [
    {
     "name": "stdout",
     "output_type": "stream",
     "text": [
      "[[147   3]\n",
      " [  4 146]]\n"
     ]
    },
    {
     "data": {
      "text/plain": [
       "0.9766666666666667"
      ]
     },
     "execution_count": 35,
     "metadata": {},
     "output_type": "execute_result"
    }
   ],
   "source": [
    "from sklearn.metrics import confusion_matrix, accuracy_score\n",
    "cm_s = confusion_matrix(y_s,y_pred_sm)\n",
    "print(cm_s)\n",
    "accuracy_score(y_s,y_pred_sm)"
   ]
  },
  {
   "cell_type": "code",
   "execution_count": 45,
   "id": "66b61d38-8cb4-4da6-bbac-1026f6bdfa8c",
   "metadata": {},
   "outputs": [
    {
     "name": "stdout",
     "output_type": "stream",
     "text": [
      "[[4090  693]\n",
      " [1460 3357]]\n"
     ]
    },
    {
     "data": {
      "text/plain": [
       "0.7757291666666667"
      ]
     },
     "execution_count": 45,
     "metadata": {},
     "output_type": "execute_result"
    }
   ],
   "source": [
    "## accuracy with 23 hidden layer sizes on training data\n",
    "cm = confusion_matrix(y_train, y_pred_train)\n",
    "print(cm)\n",
    "accuracy_score(y_train, y_pred_train)"
   ]
  },
  {
   "cell_type": "code",
   "execution_count": 207,
   "id": "7db41d03-94e0-481d-9215-2149a59652ff",
   "metadata": {},
   "outputs": [
    {
     "name": "stdout",
     "output_type": "stream",
     "text": [
      "---------- TRAINING RESULTS ----------\n",
      "              precision    recall  f1-score   support\n",
      "\n",
      "           0       0.74      0.86      0.79      4783\n",
      "           1       0.83      0.70      0.76      4817\n",
      "\n",
      "    accuracy                           0.78      9600\n",
      "   macro avg       0.78      0.78      0.77      9600\n",
      "weighted avg       0.78      0.78      0.77      9600\n",
      "\n"
     ]
    }
   ],
   "source": [
    "# Measuring accuracy (precision and f1-score) on training dataset\n",
    "from sklearn.metrics import classification_report\n",
    "print('---------- TRAINING RESULTS ----------')\n",
    "print(classification_report(y_train, y_pred_train))"
   ]
  },
  {
   "cell_type": "code",
   "execution_count": 146,
   "id": "95d83074-d6e6-4538-a01a-caf934f6da8f",
   "metadata": {},
   "outputs": [
    {
     "name": "stdout",
     "output_type": "stream",
     "text": [
      "---------- Test RESULTS ----------\n",
      "              precision    recall  f1-score   support\n",
      "\n",
      "           0       0.66      0.77      0.71      1217\n",
      "           1       0.71      0.60      0.65      1183\n",
      "\n",
      "    accuracy                           0.68      2400\n",
      "   macro avg       0.69      0.68      0.68      2400\n",
      "weighted avg       0.69      0.68      0.68      2400\n",
      "\n"
     ]
    }
   ],
   "source": [
    "    print('---------- Test RESULTS ----------')\n",
    "    print(classification_report(y_test, y_pred_test))"
   ]
  },
  {
   "cell_type": "code",
   "execution_count": 145,
   "id": "6e742777-7aea-4e07-935a-60cdbab576c6",
   "metadata": {},
   "outputs": [
    {
     "name": "stdout",
     "output_type": "stream",
     "text": [
      "[[933 284]\n",
      " [477 706]]\n"
     ]
    },
    {
     "data": {
      "text/plain": [
       "0.6829166666666666"
      ]
     },
     "execution_count": 145,
     "metadata": {},
     "output_type": "execute_result"
    }
   ],
   "source": [
    "# Measuring accuracy on test data\n",
    "cm_test = confusion_matrix(y_test, y_pred_test)\n",
    "print(cm_test)\n",
    "accuracy_score(y_test, y_pred_test)"
   ]
  },
  {
   "cell_type": "code",
   "execution_count": 160,
   "id": "4afafd95-3936-45aa-abc7-3549d449b7b1",
   "metadata": {},
   "outputs": [
    {
     "name": "stdout",
     "output_type": "stream",
     "text": [
      "loss is 1988.579239493045\n",
      "loss is 1568.9349817570503\n",
      "loss is 1125.47974339731\n",
      "loss is 1063.9982320936103\n",
      "loss is 1039.5827752998314\n",
      "loss is 1029.37448191557\n",
      "loss is 1032.70048945946\n",
      "loss is 1010.4931845576428\n",
      "loss is 996.1135564795003\n",
      "loss is 1010.031365494728\n",
      "loss is 1007.0053817965019\n",
      "loss is 1001.6326898409538\n",
      "loss is 1010.5299175452147\n",
      "loss is 1018.6401618671094\n",
      "loss is 1019.3024808305333\n",
      "Output after training:\n",
      "              precision    recall  f1-score   support\n",
      "\n",
      "     Class 0       0.64      0.75      0.69      1473\n",
      "     Class 1       0.71      0.60      0.65      1527\n",
      "\n",
      "    accuracy                           0.67      3000\n",
      "   macro avg       0.68      0.67      0.67      3000\n",
      "weighted avg       0.68      0.67      0.67      3000\n",
      "\n",
      "Average accuracy: 67.03%\n",
      "loss is 1995.8809552245189\n",
      "loss is 1326.8588362966125\n",
      "loss is 1159.8808468812979\n",
      "loss is 1127.0671220529825\n",
      "loss is 1111.60217958487\n",
      "loss is 1056.1523335675754\n",
      "loss is 1109.6156616087853\n",
      "loss is 1027.9546806271337\n",
      "loss is 1064.8966255830605\n",
      "loss is 1025.476906175938\n",
      "loss is 1006.4787511080903\n",
      "loss is 1031.2609718709098\n",
      "loss is 997.386717088102\n",
      "loss is 991.5409610906377\n",
      "loss is 989.979295306726\n",
      "Output after training:\n",
      "              precision    recall  f1-score   support\n",
      "\n",
      "     Class 0       0.66      0.75      0.70      1479\n",
      "     Class 1       0.72      0.63      0.67      1521\n",
      "\n",
      "    accuracy                           0.69      3000\n",
      "   macro avg       0.69      0.69      0.69      3000\n",
      "weighted avg       0.69      0.69      0.69      3000\n",
      "\n",
      "Average accuracy: 68.00%\n",
      "loss is 1985.5671848045554\n",
      "loss is 1315.7845358471586\n",
      "loss is 1148.065664478162\n",
      "loss is 1084.4120495035256\n",
      "loss is 1115.4722764993796\n",
      "loss is 1044.5355101709968\n",
      "loss is 1039.357721318357\n",
      "loss is 1028.17408048808\n",
      "loss is 1024.1761668168303\n",
      "loss is 1013.3019395773626\n",
      "loss is 1073.021654943872\n",
      "loss is 1027.2942363770499\n",
      "loss is 1040.3642275518375\n",
      "loss is 1027.0520731158779\n",
      "loss is 1023.325757712623\n",
      "Output after training:\n",
      "              precision    recall  f1-score   support\n",
      "\n",
      "     Class 0       0.66      0.77      0.71      1494\n",
      "     Class 1       0.73      0.61      0.66      1506\n",
      "\n",
      "    accuracy                           0.69      3000\n",
      "   macro avg       0.69      0.69      0.69      3000\n",
      "weighted avg       0.69      0.69      0.69      3000\n",
      "\n",
      "Average accuracy: 68.32%\n",
      "loss is 1965.4601542157734\n",
      "loss is 2276.9999985821064\n",
      "loss is 1223.228865877155\n",
      "loss is 1096.8663858142545\n",
      "loss is 1075.584782605255\n",
      "loss is 1104.6547896341217\n",
      "loss is 1074.9218584186237\n",
      "loss is 1081.1356930282445\n",
      "loss is 1059.4247026132596\n",
      "loss is 1036.6774227430071\n",
      "loss is 1043.93512941761\n",
      "loss is 1030.4367894224208\n",
      "loss is 1052.5069523352206\n",
      "loss is 1022.0104051945871\n",
      "loss is 1010.831022794988\n",
      "Output after training:\n",
      "              precision    recall  f1-score   support\n",
      "\n",
      "     Class 0       0.69      0.73      0.71      1554\n",
      "     Class 1       0.69      0.64      0.66      1446\n",
      "\n",
      "    accuracy                           0.69      3000\n",
      "   macro avg       0.69      0.68      0.68      3000\n",
      "weighted avg       0.69      0.69      0.69      3000\n",
      "\n",
      "Average accuracy: 68.40%\n"
     ]
    }
   ],
   "source": [
    " #K-fold cross-validation getting average \n",
    "from sklearn.model_selection import KFold\n",
    "\n",
    "kf = KFold(n_splits=4, shuffle=True, random_state=42) \n",
    "accuracies = [] \n",
    "for train_index, test_index in kf.split(X_sc): \n",
    "    X_tn, X_te = X_sc[train_index], X_sc[test_index] \n",
    "    y_tn, y_te = y10[train_index], y10[test_index] \n",
    "# Train the neural network \n",
    "    W1, b1, W2, b2 = neural_network_fit(X_tn, y_tn) \n",
    "# Make predictions \n",
    "    y_pre = neural_network_predict(X_te, W1, b1, W2, b2) \n",
    "# Calculate accuracy \n",
    "    accuracy = accuracy_score(y_te, y_pre) \n",
    "    accuracies.append(accuracy) \n",
    "# Print classification report for each fold \n",
    "    print(classification_report(y_te, y_pre, target_names=[\"Class 0\", \"Class 1\"])) \n",
    "# Calculate average accuracy \n",
    "    avg_accuracy = np.average(accuracies) \n",
    "    print(f\"Avg accuracy: {avg_accuracy * 100:.2f}%\")"
   ]
  },
  {
   "cell_type": "code",
   "execution_count": 168,
   "id": "fefb382f-0d2e-41c7-957d-ed22d05060c4",
   "metadata": {},
   "outputs": [],
   "source": [
    "target_names = ['Default', 'Not Default']"
   ]
  },
  {
   "cell_type": "code",
   "execution_count": 169,
   "id": "32204611-c686-45c5-91fe-ce0c0be80b20",
   "metadata": {},
   "outputs": [
    {
     "data": {
      "image/png": "[encoded data removed]",
      "text/plain": [
       "<Figure size 1000x500 with 2 Axes>"
      ]
     },
     "metadata": {},
     "output_type": "display_data"
    }
   ],
   "source": [
    "from sklearn.metrics import *\n",
    "fig, ax = plt.subplots(figsize=(10, 5))\n",
    "ConfusionMatrixDisplay.from_predictions(y_train, y_pred, ax=ax, cmap=\"Reds\")\n",
    "ax.xaxis.set_ticklabels(target_names)\n",
    "ax.yaxis.set_ticklabels(target_names)\n",
    "_ = ax.set_title(\n",
    "    f\"Confusion Matrix for training data\"\n",
    ")"
   ]
  },
  {
   "cell_type": "code",
   "execution_count": 170,
   "id": "0672690c-5639-431c-8be8-0c16ba0b5b53",
   "metadata": {},
   "outputs": [
    {
     "data": {
      "image/png": "[encoded data removed]",
      "text/plain": [
       "<Figure size 1000x500 with 2 Axes>"
      ]
     },
     "metadata": {},
     "output_type": "display_data"
    }
   ],
   "source": [
    "from sklearn.metrics import *\n",
    "fig, ax = plt.subplots(figsize=(10, 5))\n",
    "ConfusionMatrixDisplay.from_predictions(y_test, y_pred_test, ax=ax, cmap=\"Blues\")\n",
    "ax.xaxis.set_ticklabels(target_names)\n",
    "ax.yaxis.set_ticklabels(target_names)\n",
    "_ = ax.set_title(\n",
    "    f\"Confusion Matrix for test data\"\n",
    ")"
   ]
  },
  {
   "cell_type": "code",
   "execution_count": 38,
   "id": "344c9aa8-5e93-4e3d-869c-448e9b1ed116",
   "metadata": {},
   "outputs": [],
   "source": [
    "from sklearn.metrics import roc_curve, auc, f1_score"
   ]
  },
  {
   "cell_type": "code",
   "execution_count": 46,
   "id": "0551bc73-c948-4c61-96a4-1258e811baba",
   "metadata": {},
   "outputs": [
    {
     "name": "stdout",
     "output_type": "stream",
     "text": [
      "F1 Score of training data: 0.76\n",
      "F1 Score of test data: 0.65\n"
     ]
    }
   ],
   "source": [
    "f1 = f1_score(y_test, y_pred_test)\n",
    "f1_train = f1_score(y_train, y_pred_train)\n",
    "print(f'F1 Score of training data: {f1_train:.2f}')\n",
    "print(f'F1 Score of test data: {f1:.2f}')"
   ]
  },
  {
   "cell_type": "code",
   "execution_count": 52,
   "id": "6419633a-7564-476f-bb4e-63b8b7ec48cf",
   "metadata": {},
   "outputs": [],
   "source": [
    "# fpr on test dataset\n",
    "fpr, tpr, _ = roc_curve(y_test, y_pred_test) \n",
    "roc_auc = auc(fpr, tpr)\n",
    "# fpr on small dataset\n",
    "fpr_sm, tpr_sm, _ = roc_curve(y_s, y_pred_sm) \n",
    "roc_auc_sm = auc(fpr_sm, tpr_sm)"
   ]
  },
  {
   "cell_type": "code",
   "execution_count": 53,
   "id": "8b420e3f-39a0-42ba-b28c-e8c553c32fb7",
   "metadata": {},
   "outputs": [
    {
     "data": {
      "image/png": "[encoded data removed]",
      "text/plain": [
       "<Figure size 640x480 with 1 Axes>"
      ]
     },
     "metadata": {},
     "output_type": "display_data"
    }
   ],
   "source": [
    "# Roc curve on test dataset\n",
    "plt.figure()\n",
    "plt.plot(fpr, tpr, color='red', lw=2, label=f'ROC curve (area = {roc_auc:.2f})')\n",
    "#plt.plot([0, 1], [0, 1], color='navy', lw=2, linestyle='--')\n",
    "plt.xlim([0.0, 1.0])\n",
    "plt.ylim([0.0, 1.05])\n",
    "plt.xlabel('False Positive Rate')\n",
    "plt.ylabel('True Positive Rate')\n",
    "plt.title('Receiver Operating Characteristic on test data (ROC)')\n",
    "plt.legend(loc=\"lower right\")\n",
    "plt.show()\n"
   ]
  },
  {
   "cell_type": "code",
   "execution_count": 50,
   "id": "46e27d3f-5fff-4aa8-91ec-9039508f39dc",
   "metadata": {},
   "outputs": [
    {
     "data": {
      "image/png": "[encoded data removed]",
      "text/plain": [
       "<Figure size 640x480 with 1 Axes>"
      ]
     },
     "metadata": {},
     "output_type": "display_data"
    }
   ],
   "source": [
    "# Roc curve on small dataset\n",
    "plt.figure()\n",
    "plt.plot(fpr_sm, tpr_sm, color='darkorange', lw=2, label=f'ROC curve for 300 samples (area = {roc_auc_sm:.2f})')\n",
    "#plt.plot([0, 1], [0, 1], color='navy', lw=2, linestyle='--')\n",
    "plt.xlim([0.0, 1.0])\n",
    "plt.ylim([0.0, 1.05])\n",
    "plt.xlabel('False Positive Rate ')\n",
    "plt.ylabel('True Positive Rate')\n",
    "plt.title('Receiver Operating Characteristic (ROC)')\n",
    "plt.legend(loc=\"lower right\")\n",
    "plt.show()\n"
   ]
  },
  {
   "cell_type": "markdown",
   "id": "9eb8c17e-9c20-4e27-9909-80d82354efe2",
   "metadata": {},
   "source": [
    "# Model Comparison with inbuilt Libraries"
   ]
  },
  {
   "cell_type": "code",
   "execution_count": 182,
   "id": "3db9c83f-f0d3-4345-a8b1-0f32430dac3d",
   "metadata": {},
   "outputs": [],
   "source": [
    "# Comparison using sklearn libraries MLP Classifier\n",
    "from sklearn.neural_network import MLPClassifier\n",
    "mlp = MLPClassifier(hidden_layer_sizes = 23, activation = 'logistic', learning_rate_init = 0.5, batch_size=10, \n",
    "                    solver='lbfgs',random_state=0, max_iter=5000).fit(X_train_sc, y_train)"
   ]
  },
  {
   "cell_type": "code",
   "execution_count": 183,
   "id": "16ebf754-775b-485d-abb3-4d27e0b7c6e1",
   "metadata": {},
   "outputs": [],
   "source": [
    "y_pred_mlp_test = mlp.predict(X_test_sc)"
   ]
  },
  {
   "cell_type": "code",
   "execution_count": 203,
   "id": "f67fb4c9-6197-4b42-9b66-beb58d2b3cd6",
   "metadata": {},
   "outputs": [
    {
     "name": "stdout",
     "output_type": "stream",
     "text": [
      "[[781 436]\n",
      " [461 722]]\n"
     ]
    },
    {
     "data": {
      "text/plain": [
       "0.67625"
      ]
     },
     "execution_count": 203,
     "metadata": {},
     "output_type": "execute_result"
    }
   ],
   "source": [
    "## accuracy with 23 hidden layer sizes on test data against \n",
    "cm_mlp = confusion_matrix(y_test, y_pred_mlp_test_i)\n",
    "print(cm_mlp)\n",
    "accuracy_score(y_test, y_pred_mlp_test)"
   ]
  },
  {
   "cell_type": "code",
   "execution_count": 16,
   "id": "01bb006e-000b-4bb7-b718-74bc026e2da0",
   "metadata": {},
   "outputs": [
    {
     "name": "stdout",
     "output_type": "stream",
     "text": [
      "Epoch 1/200\n",
      "\u001b[1m300/300\u001b[0m \u001b[32m━━━━━━━━━━━━━━━━━━━━\u001b[0m\u001b[37m\u001b[0m \u001b[1m2s\u001b[0m 2ms/step - accuracy: 0.5220 - loss: 0.7966\n",
      "Epoch 2/200\n",
      "\u001b[1m300/300\u001b[0m \u001b[32m━━━━━━━━━━━━━━━━━━━━\u001b[0m\u001b[37m\u001b[0m \u001b[1m0s\u001b[0m 2ms/step - accuracy: 0.6442 - loss: 0.6328\n",
      "Epoch 3/200\n",
      "\u001b[1m300/300\u001b[0m \u001b[32m━━━━━━━━━━━━━━━━━━━━\u001b[0m\u001b[37m\u001b[0m \u001b[1m0s\u001b[0m 1ms/step - accuracy: 0.6565 - loss: 0.6162\n",
      "Epoch 4/200\n",
      "\u001b[1m300/300\u001b[0m \u001b[32m━━━━━━━━━━━━━━━━━━━━\u001b[0m\u001b[37m\u001b[0m \u001b[1m0s\u001b[0m 1ms/step - accuracy: 0.6625 - loss: 0.6095\n",
      "Epoch 5/200\n",
      "\u001b[1m300/300\u001b[0m \u001b[32m━━━━━━━━━━━━━━━━━━━━\u001b[0m\u001b[37m\u001b[0m \u001b[1m0s\u001b[0m 1ms/step - accuracy: 0.6705 - loss: 0.6034\n",
      "Epoch 6/200\n",
      "\u001b[1m300/300\u001b[0m \u001b[32m━━━━━━━━━━━━━━━━━━━━\u001b[0m\u001b[37m\u001b[0m \u001b[1m0s\u001b[0m 1ms/step - accuracy: 0.6806 - loss: 0.6029\n",
      "Epoch 7/200\n",
      "\u001b[1m300/300\u001b[0m \u001b[32m━━━━━━━━━━━━━━━━━━━━\u001b[0m\u001b[37m\u001b[0m \u001b[1m1s\u001b[0m 1ms/step - accuracy: 0.6711 - loss: 0.6030\n",
      "Epoch 8/200\n",
      "\u001b[1m300/300\u001b[0m \u001b[32m━━━━━━━━━━━━━━━━━━━━\u001b[0m\u001b[37m\u001b[0m \u001b[1m0s\u001b[0m 1ms/step - accuracy: 0.6794 - loss: 0.6022\n",
      "Epoch 9/200\n",
      "\u001b[1m300/300\u001b[0m \u001b[32m━━━━━━━━━━━━━━━━━━━━\u001b[0m\u001b[37m\u001b[0m \u001b[1m0s\u001b[0m 1ms/step - accuracy: 0.6822 - loss: 0.5935\n",
      "Epoch 10/200\n",
      "\u001b[1m300/300\u001b[0m \u001b[32m━━━━━━━━━━━━━━━━━━━━\u001b[0m\u001b[37m\u001b[0m \u001b[1m0s\u001b[0m 1ms/step - accuracy: 0.6795 - loss: 0.5922\n",
      "Epoch 11/200\n",
      "\u001b[1m300/300\u001b[0m \u001b[32m━━━━━━━━━━━━━━━━━━━━\u001b[0m\u001b[37m\u001b[0m \u001b[1m1s\u001b[0m 2ms/step - accuracy: 0.6937 - loss: 0.5865\n",
      "Epoch 12/200\n",
      "\u001b[1m300/300\u001b[0m \u001b[32m━━━━━━━━━━━━━━━━━━━━\u001b[0m\u001b[37m\u001b[0m \u001b[1m0s\u001b[0m 1ms/step - accuracy: 0.6933 - loss: 0.5824\n",
      "Epoch 13/200\n",
      "\u001b[1m300/300\u001b[0m \u001b[32m━━━━━━━━━━━━━━━━━━━━\u001b[0m\u001b[37m\u001b[0m \u001b[1m0s\u001b[0m 1ms/step - accuracy: 0.6919 - loss: 0.5832\n",
      "Epoch 14/200\n",
      "\u001b[1m300/300\u001b[0m \u001b[32m━━━━━━━━━━━━━━━━━━━━\u001b[0m\u001b[37m\u001b[0m \u001b[1m0s\u001b[0m 1ms/step - accuracy: 0.6992 - loss: 0.5836\n",
      "Epoch 15/200\n",
      "\u001b[1m300/300\u001b[0m \u001b[32m━━━━━━━━━━━━━━━━━━━━\u001b[0m\u001b[37m\u001b[0m \u001b[1m0s\u001b[0m 1ms/step - accuracy: 0.6895 - loss: 0.5839\n",
      "Epoch 16/200\n",
      "\u001b[1m300/300\u001b[0m \u001b[32m━━━━━━━━━━━━━━━━━━━━\u001b[0m\u001b[37m\u001b[0m \u001b[1m0s\u001b[0m 1ms/step - accuracy: 0.7043 - loss: 0.5725\n",
      "Epoch 17/200\n",
      "\u001b[1m300/300\u001b[0m \u001b[32m━━━━━━━━━━━━━━━━━━━━\u001b[0m\u001b[37m\u001b[0m \u001b[1m0s\u001b[0m 1ms/step - accuracy: 0.6872 - loss: 0.5835\n",
      "Epoch 18/200\n",
      "\u001b[1m300/300\u001b[0m \u001b[32m━━━━━━━━━━━━━━━━━━━━\u001b[0m\u001b[37m\u001b[0m \u001b[1m0s\u001b[0m 1ms/step - accuracy: 0.6852 - loss: 0.5834\n",
      "Epoch 19/200\n",
      "\u001b[1m300/300\u001b[0m \u001b[32m━━━━━━━━━━━━━━━━━━━━\u001b[0m\u001b[37m\u001b[0m \u001b[1m0s\u001b[0m 1ms/step - accuracy: 0.6884 - loss: 0.5843\n",
      "Epoch 20/200\n",
      "\u001b[1m300/300\u001b[0m \u001b[32m━━━━━━━━━━━━━━━━━━━━\u001b[0m\u001b[37m\u001b[0m \u001b[1m0s\u001b[0m 1ms/step - accuracy: 0.6950 - loss: 0.5756\n",
      "Epoch 21/200\n",
      "\u001b[1m300/300\u001b[0m \u001b[32m━━━━━━━━━━━━━━━━━━━━\u001b[0m\u001b[37m\u001b[0m \u001b[1m0s\u001b[0m 1ms/step - accuracy: 0.6958 - loss: 0.5787\n",
      "Epoch 22/200\n",
      "\u001b[1m300/300\u001b[0m \u001b[32m━━━━━━━━━━━━━━━━━━━━\u001b[0m\u001b[37m\u001b[0m \u001b[1m0s\u001b[0m 1ms/step - accuracy: 0.7002 - loss: 0.5738\n",
      "Epoch 23/200\n",
      "\u001b[1m300/300\u001b[0m \u001b[32m━━━━━━━━━━━━━━━━━━━━\u001b[0m\u001b[37m\u001b[0m \u001b[1m0s\u001b[0m 1ms/step - accuracy: 0.6930 - loss: 0.5753\n",
      "Epoch 24/200\n",
      "\u001b[1m300/300\u001b[0m \u001b[32m━━━━━━━━━━━━━━━━━━━━\u001b[0m\u001b[37m\u001b[0m \u001b[1m0s\u001b[0m 1ms/step - accuracy: 0.6935 - loss: 0.5771\n",
      "Epoch 25/200\n",
      "\u001b[1m300/300\u001b[0m \u001b[32m━━━━━━━━━━━━━━━━━━━━\u001b[0m\u001b[37m\u001b[0m \u001b[1m0s\u001b[0m 1ms/step - accuracy: 0.6941 - loss: 0.5767\n",
      "Epoch 26/200\n",
      "\u001b[1m300/300\u001b[0m \u001b[32m━━━━━━━━━━━━━━━━━━━━\u001b[0m\u001b[37m\u001b[0m \u001b[1m0s\u001b[0m 1ms/step - accuracy: 0.6966 - loss: 0.5744\n",
      "Epoch 27/200\n",
      "\u001b[1m300/300\u001b[0m \u001b[32m━━━━━━━━━━━━━━━━━━━━\u001b[0m\u001b[37m\u001b[0m \u001b[1m0s\u001b[0m 1ms/step - accuracy: 0.6981 - loss: 0.5711\n",
      "Epoch 28/200\n",
      "\u001b[1m300/300\u001b[0m \u001b[32m━━━━━━━━━━━━━━━━━━━━\u001b[0m\u001b[37m\u001b[0m \u001b[1m0s\u001b[0m 1ms/step - accuracy: 0.6968 - loss: 0.5729\n",
      "Epoch 29/200\n",
      "\u001b[1m300/300\u001b[0m \u001b[32m━━━━━━━━━━━━━━━━━━━━\u001b[0m\u001b[37m\u001b[0m \u001b[1m0s\u001b[0m 1ms/step - accuracy: 0.6981 - loss: 0.5707\n",
      "Epoch 30/200\n",
      "\u001b[1m300/300\u001b[0m \u001b[32m━━━━━━━━━━━━━━━━━━━━\u001b[0m\u001b[37m\u001b[0m \u001b[1m0s\u001b[0m 1ms/step - accuracy: 0.6972 - loss: 0.5703\n",
      "Epoch 31/200\n",
      "\u001b[1m300/300\u001b[0m \u001b[32m━━━━━━━━━━━━━━━━━━━━\u001b[0m\u001b[37m\u001b[0m \u001b[1m0s\u001b[0m 1ms/step - accuracy: 0.7012 - loss: 0.5710\n",
      "Epoch 32/200\n",
      "\u001b[1m300/300\u001b[0m \u001b[32m━━━━━━━━━━━━━━━━━━━━\u001b[0m\u001b[37m\u001b[0m \u001b[1m0s\u001b[0m 1ms/step - accuracy: 0.7065 - loss: 0.5625\n",
      "Epoch 33/200\n",
      "\u001b[1m300/300\u001b[0m \u001b[32m━━━━━━━━━━━━━━━━━━━━\u001b[0m\u001b[37m\u001b[0m \u001b[1m0s\u001b[0m 1ms/step - accuracy: 0.6932 - loss: 0.5752\n",
      "Epoch 34/200\n",
      "\u001b[1m300/300\u001b[0m \u001b[32m━━━━━━━━━━━━━━━━━━━━\u001b[0m\u001b[37m\u001b[0m \u001b[1m0s\u001b[0m 1ms/step - accuracy: 0.7040 - loss: 0.5658\n",
      "Epoch 35/200\n",
      "\u001b[1m300/300\u001b[0m \u001b[32m━━━━━━━━━━━━━━━━━━━━\u001b[0m\u001b[37m\u001b[0m \u001b[1m0s\u001b[0m 1ms/step - accuracy: 0.7061 - loss: 0.5645\n",
      "Epoch 36/200\n",
      "\u001b[1m300/300\u001b[0m \u001b[32m━━━━━━━━━━━━━━━━━━━━\u001b[0m\u001b[37m\u001b[0m \u001b[1m0s\u001b[0m 1ms/step - accuracy: 0.7039 - loss: 0.5638\n",
      "Epoch 37/200\n",
      "\u001b[1m300/300\u001b[0m \u001b[32m━━━━━━━━━━━━━━━━━━━━\u001b[0m\u001b[37m\u001b[0m \u001b[1m0s\u001b[0m 1ms/step - accuracy: 0.7061 - loss: 0.5691\n",
      "Epoch 38/200\n",
      "\u001b[1m300/300\u001b[0m \u001b[32m━━━━━━━━━━━━━━━━━━━━\u001b[0m\u001b[37m\u001b[0m \u001b[1m0s\u001b[0m 1ms/step - accuracy: 0.6953 - loss: 0.5728\n",
      "Epoch 39/200\n",
      "\u001b[1m300/300\u001b[0m \u001b[32m━━━━━━━━━━━━━━━━━━━━\u001b[0m\u001b[37m\u001b[0m \u001b[1m0s\u001b[0m 1ms/step - accuracy: 0.6984 - loss: 0.5704\n",
      "Epoch 40/200\n",
      "\u001b[1m300/300\u001b[0m \u001b[32m━━━━━━━━━━━━━━━━━━━━\u001b[0m\u001b[37m\u001b[0m \u001b[1m0s\u001b[0m 1ms/step - accuracy: 0.7080 - loss: 0.5644\n",
      "Epoch 41/200\n",
      "\u001b[1m300/300\u001b[0m \u001b[32m━━━━━━━━━━━━━━━━━━━━\u001b[0m\u001b[37m\u001b[0m \u001b[1m0s\u001b[0m 1ms/step - accuracy: 0.7035 - loss: 0.5703\n",
      "Epoch 42/200\n",
      "\u001b[1m300/300\u001b[0m \u001b[32m━━━━━━━━━━━━━━━━━━━━\u001b[0m\u001b[37m\u001b[0m \u001b[1m0s\u001b[0m 1ms/step - accuracy: 0.7039 - loss: 0.5714\n",
      "Epoch 43/200\n",
      "\u001b[1m300/300\u001b[0m \u001b[32m━━━━━━━━━━━━━━━━━━━━\u001b[0m\u001b[37m\u001b[0m \u001b[1m0s\u001b[0m 1ms/step - accuracy: 0.7074 - loss: 0.5648\n",
      "Epoch 44/200\n",
      "\u001b[1m300/300\u001b[0m \u001b[32m━━━━━━━━━━━━━━━━━━━━\u001b[0m\u001b[37m\u001b[0m \u001b[1m0s\u001b[0m 1ms/step - accuracy: 0.7082 - loss: 0.5640\n",
      "Epoch 45/200\n",
      "\u001b[1m300/300\u001b[0m \u001b[32m━━━━━━━━━━━━━━━━━━━━\u001b[0m\u001b[37m\u001b[0m \u001b[1m0s\u001b[0m 1ms/step - accuracy: 0.7088 - loss: 0.5638\n",
      "Epoch 46/200\n",
      "\u001b[1m300/300\u001b[0m \u001b[32m━━━━━━━━━━━━━━━━━━━━\u001b[0m\u001b[37m\u001b[0m \u001b[1m1s\u001b[0m 1ms/step - accuracy: 0.7055 - loss: 0.5656\n",
      "Epoch 47/200\n",
      "\u001b[1m300/300\u001b[0m \u001b[32m━━━━━━━━━━━━━━━━━━━━\u001b[0m\u001b[37m\u001b[0m \u001b[1m0s\u001b[0m 1ms/step - accuracy: 0.7088 - loss: 0.5628\n",
      "Epoch 48/200\n",
      "\u001b[1m300/300\u001b[0m \u001b[32m━━━━━━━━━━━━━━━━━━━━\u001b[0m\u001b[37m\u001b[0m \u001b[1m0s\u001b[0m 1ms/step - accuracy: 0.7077 - loss: 0.5636\n",
      "Epoch 49/200\n",
      "\u001b[1m300/300\u001b[0m \u001b[32m━━━━━━━━━━━━━━━━━━━━\u001b[0m\u001b[37m\u001b[0m \u001b[1m0s\u001b[0m 1ms/step - accuracy: 0.7079 - loss: 0.5602\n",
      "Epoch 50/200\n",
      "\u001b[1m300/300\u001b[0m \u001b[32m━━━━━━━━━━━━━━━━━━━━\u001b[0m\u001b[37m\u001b[0m \u001b[1m0s\u001b[0m 1ms/step - accuracy: 0.7014 - loss: 0.5668\n",
      "Epoch 51/200\n",
      "\u001b[1m300/300\u001b[0m \u001b[32m━━━━━━━━━━━━━━━━━━━━\u001b[0m\u001b[37m\u001b[0m \u001b[1m0s\u001b[0m 1ms/step - accuracy: 0.7228 - loss: 0.5524\n",
      "Epoch 52/200\n",
      "\u001b[1m300/300\u001b[0m \u001b[32m━━━━━━━━━━━━━━━━━━━━\u001b[0m\u001b[37m\u001b[0m \u001b[1m1s\u001b[0m 2ms/step - accuracy: 0.7150 - loss: 0.5577\n",
      "Epoch 53/200\n",
      "\u001b[1m300/300\u001b[0m \u001b[32m━━━━━━━━━━━━━━━━━━━━\u001b[0m\u001b[37m\u001b[0m \u001b[1m0s\u001b[0m 1ms/step - accuracy: 0.7084 - loss: 0.5644\n",
      "Epoch 54/200\n",
      "\u001b[1m300/300\u001b[0m \u001b[32m━━━━━━━━━━━━━━━━━━━━\u001b[0m\u001b[37m\u001b[0m \u001b[1m0s\u001b[0m 1ms/step - accuracy: 0.7065 - loss: 0.5647\n",
      "Epoch 55/200\n",
      "\u001b[1m300/300\u001b[0m \u001b[32m━━━━━━━━━━━━━━━━━━━━\u001b[0m\u001b[37m\u001b[0m \u001b[1m0s\u001b[0m 1ms/step - accuracy: 0.7088 - loss: 0.5623\n",
      "Epoch 56/200\n",
      "\u001b[1m300/300\u001b[0m \u001b[32m━━━━━━━━━━━━━━━━━━━━\u001b[0m\u001b[37m\u001b[0m \u001b[1m0s\u001b[0m 1ms/step - accuracy: 0.7070 - loss: 0.5612\n",
      "Epoch 57/200\n",
      "\u001b[1m300/300\u001b[0m \u001b[32m━━━━━━━━━━━━━━━━━━━━\u001b[0m\u001b[37m\u001b[0m \u001b[1m0s\u001b[0m 1ms/step - accuracy: 0.7106 - loss: 0.5638\n",
      "Epoch 58/200\n",
      "\u001b[1m300/300\u001b[0m \u001b[32m━━━━━━━━━━━━━━━━━━━━\u001b[0m\u001b[37m\u001b[0m \u001b[1m0s\u001b[0m 1ms/step - accuracy: 0.7138 - loss: 0.5547\n",
      "Epoch 59/200\n",
      "\u001b[1m300/300\u001b[0m \u001b[32m━━━━━━━━━━━━━━━━━━━━\u001b[0m\u001b[37m\u001b[0m \u001b[1m0s\u001b[0m 1ms/step - accuracy: 0.7145 - loss: 0.5548\n",
      "Epoch 60/200\n",
      "\u001b[1m300/300\u001b[0m \u001b[32m━━━━━━━━━━━━━━━━━━━━\u001b[0m\u001b[37m\u001b[0m \u001b[1m0s\u001b[0m 1ms/step - accuracy: 0.7150 - loss: 0.5544\n",
      "Epoch 61/200\n",
      "\u001b[1m300/300\u001b[0m \u001b[32m━━━━━━━━━━━━━━━━━━━━\u001b[0m\u001b[37m\u001b[0m \u001b[1m0s\u001b[0m 1ms/step - accuracy: 0.7111 - loss: 0.5604\n",
      "Epoch 62/200\n",
      "\u001b[1m300/300\u001b[0m \u001b[32m━━━━━━━━━━━━━━━━━━━━\u001b[0m\u001b[37m\u001b[0m \u001b[1m0s\u001b[0m 1ms/step - accuracy: 0.7108 - loss: 0.5559\n",
      "Epoch 63/200\n",
      "\u001b[1m300/300\u001b[0m \u001b[32m━━━━━━━━━━━━━━━━━━━━\u001b[0m\u001b[37m\u001b[0m \u001b[1m0s\u001b[0m 1ms/step - accuracy: 0.7056 - loss: 0.5615\n",
      "Epoch 64/200\n",
      "\u001b[1m300/300\u001b[0m \u001b[32m━━━━━━━━━━━━━━━━━━━━\u001b[0m\u001b[37m\u001b[0m \u001b[1m0s\u001b[0m 1ms/step - accuracy: 0.7136 - loss: 0.5588\n",
      "Epoch 65/200\n",
      "\u001b[1m300/300\u001b[0m \u001b[32m━━━━━━━━━━━━━━━━━━━━\u001b[0m\u001b[37m\u001b[0m \u001b[1m0s\u001b[0m 1ms/step - accuracy: 0.7077 - loss: 0.5644\n",
      "Epoch 66/200\n",
      "\u001b[1m300/300\u001b[0m \u001b[32m━━━━━━━━━━━━━━━━━━━━\u001b[0m\u001b[37m\u001b[0m \u001b[1m0s\u001b[0m 1ms/step - accuracy: 0.7127 - loss: 0.5603\n",
      "Epoch 67/200\n",
      "\u001b[1m300/300\u001b[0m \u001b[32m━━━━━━━━━━━━━━━━━━━━\u001b[0m\u001b[37m\u001b[0m \u001b[1m0s\u001b[0m 1ms/step - accuracy: 0.7123 - loss: 0.5553\n",
      "Epoch 68/200\n",
      "\u001b[1m300/300\u001b[0m \u001b[32m━━━━━━━━━━━━━━━━━━━━\u001b[0m\u001b[37m\u001b[0m \u001b[1m0s\u001b[0m 1ms/step - accuracy: 0.7138 - loss: 0.5531\n",
      "Epoch 69/200\n",
      "\u001b[1m300/300\u001b[0m \u001b[32m━━━━━━━━━━━━━━━━━━━━\u001b[0m\u001b[37m\u001b[0m \u001b[1m0s\u001b[0m 1ms/step - accuracy: 0.7180 - loss: 0.5518\n",
      "Epoch 70/200\n",
      "\u001b[1m300/300\u001b[0m \u001b[32m━━━━━━━━━━━━━━━━━━━━\u001b[0m\u001b[37m\u001b[0m \u001b[1m0s\u001b[0m 1ms/step - accuracy: 0.7238 - loss: 0.5470\n",
      "Epoch 71/200\n",
      "\u001b[1m300/300\u001b[0m \u001b[32m━━━━━━━━━━━━━━━━━━━━\u001b[0m\u001b[37m\u001b[0m \u001b[1m0s\u001b[0m 1ms/step - accuracy: 0.7134 - loss: 0.5541\n",
      "Epoch 72/200\n",
      "\u001b[1m300/300\u001b[0m \u001b[32m━━━━━━━━━━━━━━━━━━━━\u001b[0m\u001b[37m\u001b[0m \u001b[1m0s\u001b[0m 1ms/step - accuracy: 0.7125 - loss: 0.5535\n",
      "Epoch 73/200\n",
      "\u001b[1m300/300\u001b[0m \u001b[32m━━━━━━━━━━━━━━━━━━━━\u001b[0m\u001b[37m\u001b[0m \u001b[1m0s\u001b[0m 1ms/step - accuracy: 0.7099 - loss: 0.5518\n",
      "Epoch 74/200\n",
      "\u001b[1m300/300\u001b[0m \u001b[32m━━━━━━━━━━━━━━━━━━━━\u001b[0m\u001b[37m\u001b[0m \u001b[1m0s\u001b[0m 1ms/step - accuracy: 0.7154 - loss: 0.5581\n",
      "Epoch 75/200\n",
      "\u001b[1m300/300\u001b[0m \u001b[32m━━━━━━━━━━━━━━━━━━━━\u001b[0m\u001b[37m\u001b[0m \u001b[1m0s\u001b[0m 1ms/step - accuracy: 0.7044 - loss: 0.5633\n",
      "Epoch 76/200\n",
      "\u001b[1m300/300\u001b[0m \u001b[32m━━━━━━━━━━━━━━━━━━━━\u001b[0m\u001b[37m\u001b[0m \u001b[1m0s\u001b[0m 1ms/step - accuracy: 0.7121 - loss: 0.5503\n",
      "Epoch 77/200\n",
      "\u001b[1m300/300\u001b[0m \u001b[32m━━━━━━━━━━━━━━━━━━━━\u001b[0m\u001b[37m\u001b[0m \u001b[1m0s\u001b[0m 1ms/step - accuracy: 0.7147 - loss: 0.5520\n",
      "Epoch 78/200\n",
      "\u001b[1m300/300\u001b[0m \u001b[32m━━━━━━━━━━━━━━━━━━━━\u001b[0m\u001b[37m\u001b[0m \u001b[1m0s\u001b[0m 1ms/step - accuracy: 0.7227 - loss: 0.5487\n",
      "Epoch 79/200\n",
      "\u001b[1m300/300\u001b[0m \u001b[32m━━━━━━━━━━━━━━━━━━━━\u001b[0m\u001b[37m\u001b[0m \u001b[1m0s\u001b[0m 1ms/step - accuracy: 0.7121 - loss: 0.5570\n",
      "Epoch 80/200\n",
      "\u001b[1m300/300\u001b[0m \u001b[32m━━━━━━━━━━━━━━━━━━━━\u001b[0m\u001b[37m\u001b[0m \u001b[1m0s\u001b[0m 1ms/step - accuracy: 0.7134 - loss: 0.5489\n",
      "Epoch 81/200\n",
      "\u001b[1m300/300\u001b[0m \u001b[32m━━━━━━━━━━━━━━━━━━━━\u001b[0m\u001b[37m\u001b[0m \u001b[1m0s\u001b[0m 2ms/step - accuracy: 0.7157 - loss: 0.5490\n",
      "Epoch 82/200\n",
      "\u001b[1m300/300\u001b[0m \u001b[32m━━━━━━━━━━━━━━━━━━━━\u001b[0m\u001b[37m\u001b[0m \u001b[1m0s\u001b[0m 1ms/step - accuracy: 0.7142 - loss: 0.5523\n",
      "Epoch 83/200\n",
      "\u001b[1m300/300\u001b[0m \u001b[32m━━━━━━━━━━━━━━━━━━━━\u001b[0m\u001b[37m\u001b[0m \u001b[1m0s\u001b[0m 1ms/step - accuracy: 0.7173 - loss: 0.5529\n",
      "Epoch 84/200\n",
      "\u001b[1m300/300\u001b[0m \u001b[32m━━━━━━━━━━━━━━━━━━━━\u001b[0m\u001b[37m\u001b[0m \u001b[1m1s\u001b[0m 2ms/step - accuracy: 0.7127 - loss: 0.5536\n",
      "Epoch 85/200\n",
      "\u001b[1m300/300\u001b[0m \u001b[32m━━━━━━━━━━━━━━━━━━━━\u001b[0m\u001b[37m\u001b[0m \u001b[1m1s\u001b[0m 2ms/step - accuracy: 0.7213 - loss: 0.5458\n",
      "Epoch 86/200\n",
      "\u001b[1m300/300\u001b[0m \u001b[32m━━━━━━━━━━━━━━━━━━━━\u001b[0m\u001b[37m\u001b[0m \u001b[1m0s\u001b[0m 1ms/step - accuracy: 0.7104 - loss: 0.5565\n",
      "Epoch 87/200\n",
      "\u001b[1m300/300\u001b[0m \u001b[32m━━━━━━━━━━━━━━━━━━━━\u001b[0m\u001b[37m\u001b[0m \u001b[1m0s\u001b[0m 1ms/step - accuracy: 0.7162 - loss: 0.5498\n",
      "Epoch 88/200\n",
      "\u001b[1m300/300\u001b[0m \u001b[32m━━━━━━━━━━━━━━━━━━━━\u001b[0m\u001b[37m\u001b[0m \u001b[1m0s\u001b[0m 1ms/step - accuracy: 0.7098 - loss: 0.5605\n",
      "Epoch 89/200\n",
      "\u001b[1m300/300\u001b[0m \u001b[32m━━━━━━━━━━━━━━━━━━━━\u001b[0m\u001b[37m\u001b[0m \u001b[1m0s\u001b[0m 1ms/step - accuracy: 0.7213 - loss: 0.5467\n",
      "Epoch 90/200\n",
      "\u001b[1m300/300\u001b[0m \u001b[32m━━━━━━━━━━━━━━━━━━━━\u001b[0m\u001b[37m\u001b[0m \u001b[1m0s\u001b[0m 1ms/step - accuracy: 0.7127 - loss: 0.5553\n",
      "Epoch 91/200\n",
      "\u001b[1m300/300\u001b[0m \u001b[32m━━━━━━━━━━━━━━━━━━━━\u001b[0m\u001b[37m\u001b[0m \u001b[1m0s\u001b[0m 1ms/step - accuracy: 0.7118 - loss: 0.5511\n",
      "Epoch 92/200\n",
      "\u001b[1m300/300\u001b[0m \u001b[32m━━━━━━━━━━━━━━━━━━━━\u001b[0m\u001b[37m\u001b[0m \u001b[1m0s\u001b[0m 1ms/step - accuracy: 0.7185 - loss: 0.5486\n",
      "Epoch 93/200\n",
      "\u001b[1m300/300\u001b[0m \u001b[32m━━━━━━━━━━━━━━━━━━━━\u001b[0m\u001b[37m\u001b[0m \u001b[1m0s\u001b[0m 1ms/step - accuracy: 0.7147 - loss: 0.5519\n",
      "Epoch 94/200\n",
      "\u001b[1m300/300\u001b[0m \u001b[32m━━━━━━━━━━━━━━━━━━━━\u001b[0m\u001b[37m\u001b[0m \u001b[1m0s\u001b[0m 1ms/step - accuracy: 0.7140 - loss: 0.5507\n",
      "Epoch 95/200\n",
      "\u001b[1m300/300\u001b[0m \u001b[32m━━━━━━━━━━━━━━━━━━━━\u001b[0m\u001b[37m\u001b[0m \u001b[1m0s\u001b[0m 1ms/step - accuracy: 0.7182 - loss: 0.5482\n",
      "Epoch 96/200\n",
      "\u001b[1m300/300\u001b[0m \u001b[32m━━━━━━━━━━━━━━━━━━━━\u001b[0m\u001b[37m\u001b[0m \u001b[1m0s\u001b[0m 1ms/step - accuracy: 0.7145 - loss: 0.5566\n",
      "Epoch 97/200\n",
      "\u001b[1m300/300\u001b[0m \u001b[32m━━━━━━━━━━━━━━━━━━━━\u001b[0m\u001b[37m\u001b[0m \u001b[1m0s\u001b[0m 1ms/step - accuracy: 0.7179 - loss: 0.5505\n",
      "Epoch 98/200\n",
      "\u001b[1m300/300\u001b[0m \u001b[32m━━━━━━━━━━━━━━━━━━━━\u001b[0m\u001b[37m\u001b[0m \u001b[1m1s\u001b[0m 1ms/step - accuracy: 0.7243 - loss: 0.5451\n",
      "Epoch 99/200\n",
      "\u001b[1m300/300\u001b[0m \u001b[32m━━━━━━━━━━━━━━━━━━━━\u001b[0m\u001b[37m\u001b[0m \u001b[1m0s\u001b[0m 1ms/step - accuracy: 0.7201 - loss: 0.5537\n",
      "Epoch 100/200\n",
      "\u001b[1m300/300\u001b[0m \u001b[32m━━━━━━━━━━━━━━━━━━━━\u001b[0m\u001b[37m\u001b[0m \u001b[1m0s\u001b[0m 1ms/step - accuracy: 0.7085 - loss: 0.5568\n",
      "Epoch 101/200\n",
      "\u001b[1m300/300\u001b[0m \u001b[32m━━━━━━━━━━━━━━━━━━━━\u001b[0m\u001b[37m\u001b[0m \u001b[1m0s\u001b[0m 1ms/step - accuracy: 0.7199 - loss: 0.5477\n",
      "Epoch 102/200\n",
      "\u001b[1m300/300\u001b[0m \u001b[32m━━━━━━━━━━━━━━━━━━━━\u001b[0m\u001b[37m\u001b[0m \u001b[1m0s\u001b[0m 1ms/step - accuracy: 0.7210 - loss: 0.5468\n",
      "Epoch 103/200\n",
      "\u001b[1m300/300\u001b[0m \u001b[32m━━━━━━━━━━━━━━━━━━━━\u001b[0m\u001b[37m\u001b[0m \u001b[1m0s\u001b[0m 1ms/step - accuracy: 0.7197 - loss: 0.5465\n",
      "Epoch 104/200\n",
      "\u001b[1m300/300\u001b[0m \u001b[32m━━━━━━━━━━━━━━━━━━━━\u001b[0m\u001b[37m\u001b[0m \u001b[1m0s\u001b[0m 1ms/step - accuracy: 0.7189 - loss: 0.5516\n",
      "Epoch 105/200\n",
      "\u001b[1m300/300\u001b[0m \u001b[32m━━━━━━━━━━━━━━━━━━━━\u001b[0m\u001b[37m\u001b[0m \u001b[1m0s\u001b[0m 1ms/step - accuracy: 0.7196 - loss: 0.5515\n",
      "Epoch 106/200\n",
      "\u001b[1m300/300\u001b[0m \u001b[32m━━━━━━━━━━━━━━━━━━━━\u001b[0m\u001b[37m\u001b[0m \u001b[1m0s\u001b[0m 1ms/step - accuracy: 0.7148 - loss: 0.5538\n",
      "Epoch 107/200\n",
      "\u001b[1m300/300\u001b[0m \u001b[32m━━━━━━━━━━━━━━━━━━━━\u001b[0m\u001b[37m\u001b[0m \u001b[1m0s\u001b[0m 1ms/step - accuracy: 0.7220 - loss: 0.5444\n",
      "Epoch 108/200\n",
      "\u001b[1m300/300\u001b[0m \u001b[32m━━━━━━━━━━━━━━━━━━━━\u001b[0m\u001b[37m\u001b[0m \u001b[1m1s\u001b[0m 1ms/step - accuracy: 0.7175 - loss: 0.5475\n",
      "Epoch 109/200\n",
      "\u001b[1m300/300\u001b[0m \u001b[32m━━━━━━━━━━━━━━━━━━━━\u001b[0m\u001b[37m\u001b[0m \u001b[1m0s\u001b[0m 1ms/step - accuracy: 0.7224 - loss: 0.5456\n",
      "Epoch 110/200\n",
      "\u001b[1m300/300\u001b[0m \u001b[32m━━━━━━━━━━━━━━━━━━━━\u001b[0m\u001b[37m\u001b[0m \u001b[1m0s\u001b[0m 1ms/step - accuracy: 0.7270 - loss: 0.5425\n",
      "Epoch 111/200\n",
      "\u001b[1m300/300\u001b[0m \u001b[32m━━━━━━━━━━━━━━━━━━━━\u001b[0m\u001b[37m\u001b[0m \u001b[1m0s\u001b[0m 1ms/step - accuracy: 0.7233 - loss: 0.5493\n",
      "Epoch 112/200\n",
      "\u001b[1m300/300\u001b[0m \u001b[32m━━━━━━━━━━━━━━━━━━━━\u001b[0m\u001b[37m\u001b[0m \u001b[1m1s\u001b[0m 2ms/step - accuracy: 0.7194 - loss: 0.5461\n",
      "Epoch 113/200\n",
      "\u001b[1m300/300\u001b[0m \u001b[32m━━━━━━━━━━━━━━━━━━━━\u001b[0m\u001b[37m\u001b[0m \u001b[1m0s\u001b[0m 1ms/step - accuracy: 0.7252 - loss: 0.5399\n",
      "Epoch 114/200\n",
      "\u001b[1m300/300\u001b[0m \u001b[32m━━━━━━━━━━━━━━━━━━━━\u001b[0m\u001b[37m\u001b[0m \u001b[1m0s\u001b[0m 1ms/step - accuracy: 0.7243 - loss: 0.5433\n",
      "Epoch 115/200\n",
      "\u001b[1m300/300\u001b[0m \u001b[32m━━━━━━━━━━━━━━━━━━━━\u001b[0m\u001b[37m\u001b[0m \u001b[1m0s\u001b[0m 1ms/step - accuracy: 0.7215 - loss: 0.5454\n",
      "Epoch 116/200\n",
      "\u001b[1m300/300\u001b[0m \u001b[32m━━━━━━━━━━━━━━━━━━━━\u001b[0m\u001b[37m\u001b[0m \u001b[1m0s\u001b[0m 1ms/step - accuracy: 0.7266 - loss: 0.5448\n",
      "Epoch 117/200\n",
      "\u001b[1m300/300\u001b[0m \u001b[32m━━━━━━━━━━━━━━━━━━━━\u001b[0m\u001b[37m\u001b[0m \u001b[1m0s\u001b[0m 1ms/step - accuracy: 0.7257 - loss: 0.5505\n",
      "Epoch 118/200\n",
      "\u001b[1m300/300\u001b[0m \u001b[32m━━━━━━━━━━━━━━━━━━━━\u001b[0m\u001b[37m\u001b[0m \u001b[1m0s\u001b[0m 1ms/step - accuracy: 0.7251 - loss: 0.5404\n",
      "Epoch 119/200\n",
      "\u001b[1m300/300\u001b[0m \u001b[32m━━━━━━━━━━━━━━━━━━━━\u001b[0m\u001b[37m\u001b[0m \u001b[1m0s\u001b[0m 1ms/step - accuracy: 0.7248 - loss: 0.5439\n",
      "Epoch 120/200\n",
      "\u001b[1m300/300\u001b[0m \u001b[32m━━━━━━━━━━━━━━━━━━━━\u001b[0m\u001b[37m\u001b[0m \u001b[1m0s\u001b[0m 1ms/step - accuracy: 0.7228 - loss: 0.5410\n",
      "Epoch 121/200\n",
      "\u001b[1m300/300\u001b[0m \u001b[32m━━━━━━━━━━━━━━━━━━━━\u001b[0m\u001b[37m\u001b[0m \u001b[1m0s\u001b[0m 1ms/step - accuracy: 0.7223 - loss: 0.5442\n",
      "Epoch 122/200\n",
      "\u001b[1m300/300\u001b[0m \u001b[32m━━━━━━━━━━━━━━━━━━━━\u001b[0m\u001b[37m\u001b[0m \u001b[1m0s\u001b[0m 1ms/step - accuracy: 0.7182 - loss: 0.5465\n",
      "Epoch 123/200\n",
      "\u001b[1m300/300\u001b[0m \u001b[32m━━━━━━━━━━━━━━━━━━━━\u001b[0m\u001b[37m\u001b[0m \u001b[1m0s\u001b[0m 1ms/step - accuracy: 0.7195 - loss: 0.5457\n",
      "Epoch 124/200\n",
      "\u001b[1m300/300\u001b[0m \u001b[32m━━━━━━━━━━━━━━━━━━━━\u001b[0m\u001b[37m\u001b[0m \u001b[1m0s\u001b[0m 1ms/step - accuracy: 0.7232 - loss: 0.5450\n",
      "Epoch 125/200\n",
      "\u001b[1m300/300\u001b[0m \u001b[32m━━━━━━━━━━━━━━━━━━━━\u001b[0m\u001b[37m\u001b[0m \u001b[1m0s\u001b[0m 1ms/step - accuracy: 0.7197 - loss: 0.5432\n",
      "Epoch 126/200\n",
      "\u001b[1m300/300\u001b[0m \u001b[32m━━━━━━━━━━━━━━━━━━━━\u001b[0m\u001b[37m\u001b[0m \u001b[1m0s\u001b[0m 1ms/step - accuracy: 0.7249 - loss: 0.5377\n",
      "Epoch 127/200\n",
      "\u001b[1m300/300\u001b[0m \u001b[32m━━━━━━━━━━━━━━━━━━━━\u001b[0m\u001b[37m\u001b[0m \u001b[1m0s\u001b[0m 1ms/step - accuracy: 0.7131 - loss: 0.5566\n",
      "Epoch 128/200\n",
      "\u001b[1m300/300\u001b[0m \u001b[32m━━━━━━━━━━━━━━━━━━━━\u001b[0m\u001b[37m\u001b[0m \u001b[1m0s\u001b[0m 1ms/step - accuracy: 0.7234 - loss: 0.5454\n",
      "Epoch 129/200\n",
      "\u001b[1m300/300\u001b[0m \u001b[32m━━━━━━━━━━━━━━━━━━━━\u001b[0m\u001b[37m\u001b[0m \u001b[1m1s\u001b[0m 1ms/step - accuracy: 0.7273 - loss: 0.5376\n",
      "Epoch 130/200\n",
      "\u001b[1m300/300\u001b[0m \u001b[32m━━━━━━━━━━━━━━━━━━━━\u001b[0m\u001b[37m\u001b[0m \u001b[1m0s\u001b[0m 1ms/step - accuracy: 0.7248 - loss: 0.5409\n",
      "Epoch 131/200\n",
      "\u001b[1m300/300\u001b[0m \u001b[32m━━━━━━━━━━━━━━━━━━━━\u001b[0m\u001b[37m\u001b[0m \u001b[1m0s\u001b[0m 1ms/step - accuracy: 0.7198 - loss: 0.5451\n",
      "Epoch 132/200\n",
      "\u001b[1m300/300\u001b[0m \u001b[32m━━━━━━━━━━━━━━━━━━━━\u001b[0m\u001b[37m\u001b[0m \u001b[1m0s\u001b[0m 1ms/step - accuracy: 0.7135 - loss: 0.5542\n",
      "Epoch 133/200\n",
      "\u001b[1m300/300\u001b[0m \u001b[32m━━━━━━━━━━━━━━━━━━━━\u001b[0m\u001b[37m\u001b[0m \u001b[1m0s\u001b[0m 1ms/step - accuracy: 0.7234 - loss: 0.5422\n",
      "Epoch 134/200\n",
      "\u001b[1m300/300\u001b[0m \u001b[32m━━━━━━━━━━━━━━━━━━━━\u001b[0m\u001b[37m\u001b[0m \u001b[1m0s\u001b[0m 1ms/step - accuracy: 0.7173 - loss: 0.5424\n",
      "Epoch 135/200\n",
      "\u001b[1m300/300\u001b[0m \u001b[32m━━━━━━━━━━━━━━━━━━━━\u001b[0m\u001b[37m\u001b[0m \u001b[1m0s\u001b[0m 1ms/step - accuracy: 0.7305 - loss: 0.5393\n",
      "Epoch 136/200\n",
      "\u001b[1m300/300\u001b[0m \u001b[32m━━━━━━━━━━━━━━━━━━━━\u001b[0m\u001b[37m\u001b[0m \u001b[1m0s\u001b[0m 1ms/step - accuracy: 0.7240 - loss: 0.5444\n",
      "Epoch 137/200\n",
      "\u001b[1m300/300\u001b[0m \u001b[32m━━━━━━━━━━━━━━━━━━━━\u001b[0m\u001b[37m\u001b[0m \u001b[1m0s\u001b[0m 1ms/step - accuracy: 0.7267 - loss: 0.5376\n",
      "Epoch 138/200\n",
      "\u001b[1m300/300\u001b[0m \u001b[32m━━━━━━━━━━━━━━━━━━━━\u001b[0m\u001b[37m\u001b[0m \u001b[1m1s\u001b[0m 2ms/step - accuracy: 0.7160 - loss: 0.5439\n",
      "Epoch 139/200\n",
      "\u001b[1m300/300\u001b[0m \u001b[32m━━━━━━━━━━━━━━━━━━━━\u001b[0m\u001b[37m\u001b[0m \u001b[1m0s\u001b[0m 1ms/step - accuracy: 0.7207 - loss: 0.5435\n",
      "Epoch 140/200\n",
      "\u001b[1m300/300\u001b[0m \u001b[32m━━━━━━━━━━━━━━━━━━━━\u001b[0m\u001b[37m\u001b[0m \u001b[1m0s\u001b[0m 1ms/step - accuracy: 0.7174 - loss: 0.5468\n",
      "Epoch 141/200\n",
      "\u001b[1m300/300\u001b[0m \u001b[32m━━━━━━━━━━━━━━━━━━━━\u001b[0m\u001b[37m\u001b[0m \u001b[1m0s\u001b[0m 1ms/step - accuracy: 0.7171 - loss: 0.5470\n",
      "Epoch 142/200\n",
      "\u001b[1m300/300\u001b[0m \u001b[32m━━━━━━━━━━━━━━━━━━━━\u001b[0m\u001b[37m\u001b[0m \u001b[1m0s\u001b[0m 1ms/step - accuracy: 0.7236 - loss: 0.5419\n",
      "Epoch 143/200\n",
      "\u001b[1m300/300\u001b[0m \u001b[32m━━━━━━━━━━━━━━━━━━━━\u001b[0m\u001b[37m\u001b[0m \u001b[1m0s\u001b[0m 1ms/step - accuracy: 0.7280 - loss: 0.5330\n",
      "Epoch 144/200\n",
      "\u001b[1m300/300\u001b[0m \u001b[32m━━━━━━━━━━━━━━━━━━━━\u001b[0m\u001b[37m\u001b[0m \u001b[1m0s\u001b[0m 1ms/step - accuracy: 0.7212 - loss: 0.5421\n",
      "Epoch 145/200\n",
      "\u001b[1m300/300\u001b[0m \u001b[32m━━━━━━━━━━━━━━━━━━━━\u001b[0m\u001b[37m\u001b[0m \u001b[1m0s\u001b[0m 1ms/step - accuracy: 0.7286 - loss: 0.5370\n",
      "Epoch 146/200\n",
      "\u001b[1m300/300\u001b[0m \u001b[32m━━━━━━━━━━━━━━━━━━━━\u001b[0m\u001b[37m\u001b[0m \u001b[1m1s\u001b[0m 1ms/step - accuracy: 0.7223 - loss: 0.5408\n",
      "Epoch 147/200\n",
      "\u001b[1m300/300\u001b[0m \u001b[32m━━━━━━━━━━━━━━━━━━━━\u001b[0m\u001b[37m\u001b[0m \u001b[1m0s\u001b[0m 1ms/step - accuracy: 0.7224 - loss: 0.5436\n",
      "Epoch 148/200\n",
      "\u001b[1m300/300\u001b[0m \u001b[32m━━━━━━━━━━━━━━━━━━━━\u001b[0m\u001b[37m\u001b[0m \u001b[1m0s\u001b[0m 1ms/step - accuracy: 0.7284 - loss: 0.5390\n",
      "Epoch 149/200\n",
      "\u001b[1m300/300\u001b[0m \u001b[32m━━━━━━━━━━━━━━━━━━━━\u001b[0m\u001b[37m\u001b[0m \u001b[1m0s\u001b[0m 1ms/step - accuracy: 0.7198 - loss: 0.5422\n",
      "Epoch 150/200\n",
      "\u001b[1m300/300\u001b[0m \u001b[32m━━━━━━━━━━━━━━━━━━━━\u001b[0m\u001b[37m\u001b[0m \u001b[1m0s\u001b[0m 1ms/step - accuracy: 0.7258 - loss: 0.5379\n",
      "Epoch 151/200\n",
      "\u001b[1m300/300\u001b[0m \u001b[32m━━━━━━━━━━━━━━━━━━━━\u001b[0m\u001b[37m\u001b[0m \u001b[1m0s\u001b[0m 1ms/step - accuracy: 0.7199 - loss: 0.5423\n",
      "Epoch 152/200\n",
      "\u001b[1m300/300\u001b[0m \u001b[32m━━━━━━━━━━━━━━━━━━━━\u001b[0m\u001b[37m\u001b[0m \u001b[1m0s\u001b[0m 1ms/step - accuracy: 0.7301 - loss: 0.5342\n",
      "Epoch 153/200\n",
      "\u001b[1m300/300\u001b[0m \u001b[32m━━━━━━━━━━━━━━━━━━━━\u001b[0m\u001b[37m\u001b[0m \u001b[1m0s\u001b[0m 1ms/step - accuracy: 0.7236 - loss: 0.5428\n",
      "Epoch 154/200\n",
      "\u001b[1m300/300\u001b[0m \u001b[32m━━━━━━━━━━━━━━━━━━━━\u001b[0m\u001b[37m\u001b[0m \u001b[1m1s\u001b[0m 1ms/step - accuracy: 0.7287 - loss: 0.5323\n",
      "Epoch 155/200\n",
      "\u001b[1m300/300\u001b[0m \u001b[32m━━━━━━━━━━━━━━━━━━━━\u001b[0m\u001b[37m\u001b[0m \u001b[1m0s\u001b[0m 1ms/step - accuracy: 0.7302 - loss: 0.5362\n",
      "Epoch 156/200\n",
      "\u001b[1m300/300\u001b[0m \u001b[32m━━━━━━━━━━━━━━━━━━━━\u001b[0m\u001b[37m\u001b[0m \u001b[1m0s\u001b[0m 1ms/step - accuracy: 0.7174 - loss: 0.5480\n",
      "Epoch 157/200\n",
      "\u001b[1m300/300\u001b[0m \u001b[32m━━━━━━━━━━━━━━━━━━━━\u001b[0m\u001b[37m\u001b[0m \u001b[1m0s\u001b[0m 1ms/step - accuracy: 0.7352 - loss: 0.5338\n",
      "Epoch 158/200\n",
      "\u001b[1m300/300\u001b[0m \u001b[32m━━━━━━━━━━━━━━━━━━━━\u001b[0m\u001b[37m\u001b[0m \u001b[1m0s\u001b[0m 1ms/step - accuracy: 0.7198 - loss: 0.5463\n",
      "Epoch 159/200\n",
      "\u001b[1m300/300\u001b[0m \u001b[32m━━━━━━━━━━━━━━━━━━━━\u001b[0m\u001b[37m\u001b[0m \u001b[1m0s\u001b[0m 1ms/step - accuracy: 0.7197 - loss: 0.5367\n",
      "Epoch 160/200\n",
      "\u001b[1m300/300\u001b[0m \u001b[32m━━━━━━━━━━━━━━━━━━━━\u001b[0m\u001b[37m\u001b[0m \u001b[1m0s\u001b[0m 1ms/step - accuracy: 0.7235 - loss: 0.5407\n",
      "Epoch 161/200\n",
      "\u001b[1m300/300\u001b[0m \u001b[32m━━━━━━━━━━━━━━━━━━━━\u001b[0m\u001b[37m\u001b[0m \u001b[1m0s\u001b[0m 1ms/step - accuracy: 0.7214 - loss: 0.5421\n",
      "Epoch 162/200\n",
      "\u001b[1m300/300\u001b[0m \u001b[32m━━━━━━━━━━━━━━━━━━━━\u001b[0m\u001b[37m\u001b[0m \u001b[1m0s\u001b[0m 1ms/step - accuracy: 0.7273 - loss: 0.5399\n",
      "Epoch 163/200\n",
      "\u001b[1m300/300\u001b[0m \u001b[32m━━━━━━━━━━━━━━━━━━━━\u001b[0m\u001b[37m\u001b[0m \u001b[1m1s\u001b[0m 2ms/step - accuracy: 0.7293 - loss: 0.5339\n",
      "Epoch 164/200\n",
      "\u001b[1m300/300\u001b[0m \u001b[32m━━━━━━━━━━━━━━━━━━━━\u001b[0m\u001b[37m\u001b[0m \u001b[1m0s\u001b[0m 1ms/step - accuracy: 0.7278 - loss: 0.5398\n",
      "Epoch 165/200\n",
      "\u001b[1m300/300\u001b[0m \u001b[32m━━━━━━━━━━━━━━━━━━━━\u001b[0m\u001b[37m\u001b[0m \u001b[1m0s\u001b[0m 1ms/step - accuracy: 0.7225 - loss: 0.5382\n",
      "Epoch 166/200\n",
      "\u001b[1m300/300\u001b[0m \u001b[32m━━━━━━━━━━━━━━━━━━━━\u001b[0m\u001b[37m\u001b[0m \u001b[1m0s\u001b[0m 1ms/step - accuracy: 0.7277 - loss: 0.5388\n",
      "Epoch 167/200\n",
      "\u001b[1m300/300\u001b[0m \u001b[32m━━━━━━━━━━━━━━━━━━━━\u001b[0m\u001b[37m\u001b[0m \u001b[1m0s\u001b[0m 1ms/step - accuracy: 0.7203 - loss: 0.5478\n",
      "Epoch 168/200\n",
      "\u001b[1m300/300\u001b[0m \u001b[32m━━━━━━━━━━━━━━━━━━━━\u001b[0m\u001b[37m\u001b[0m \u001b[1m0s\u001b[0m 1ms/step - accuracy: 0.7278 - loss: 0.5368\n",
      "Epoch 169/200\n",
      "\u001b[1m300/300\u001b[0m \u001b[32m━━━━━━━━━━━━━━━━━━━━\u001b[0m\u001b[37m\u001b[0m \u001b[1m0s\u001b[0m 1ms/step - accuracy: 0.7269 - loss: 0.5362\n",
      "Epoch 170/200\n",
      "\u001b[1m300/300\u001b[0m \u001b[32m━━━━━━━━━━━━━━━━━━━━\u001b[0m\u001b[37m\u001b[0m \u001b[1m0s\u001b[0m 1ms/step - accuracy: 0.7262 - loss: 0.5388\n",
      "Epoch 171/200\n",
      "\u001b[1m300/300\u001b[0m \u001b[32m━━━━━━━━━━━━━━━━━━━━\u001b[0m\u001b[37m\u001b[0m \u001b[1m0s\u001b[0m 1ms/step - accuracy: 0.7306 - loss: 0.5326\n",
      "Epoch 172/200\n",
      "\u001b[1m300/300\u001b[0m \u001b[32m━━━━━━━━━━━━━━━━━━━━\u001b[0m\u001b[37m\u001b[0m \u001b[1m0s\u001b[0m 1ms/step - accuracy: 0.7260 - loss: 0.5408\n",
      "Epoch 173/200\n",
      "\u001b[1m300/300\u001b[0m \u001b[32m━━━━━━━━━━━━━━━━━━━━\u001b[0m\u001b[37m\u001b[0m \u001b[1m0s\u001b[0m 1ms/step - accuracy: 0.7307 - loss: 0.5352\n",
      "Epoch 174/200\n",
      "\u001b[1m300/300\u001b[0m \u001b[32m━━━━━━━━━━━━━━━━━━━━\u001b[0m\u001b[37m\u001b[0m \u001b[1m0s\u001b[0m 1ms/step - accuracy: 0.7256 - loss: 0.5413\n",
      "Epoch 175/200\n",
      "\u001b[1m300/300\u001b[0m \u001b[32m━━━━━━━━━━━━━━━━━━━━\u001b[0m\u001b[37m\u001b[0m \u001b[1m0s\u001b[0m 1ms/step - accuracy: 0.7335 - loss: 0.5336\n",
      "Epoch 176/200\n",
      "\u001b[1m300/300\u001b[0m \u001b[32m━━━━━━━━━━━━━━━━━━━━\u001b[0m\u001b[37m\u001b[0m \u001b[1m0s\u001b[0m 1ms/step - accuracy: 0.7276 - loss: 0.5375\n",
      "Epoch 177/200\n",
      "\u001b[1m300/300\u001b[0m \u001b[32m━━━━━━━━━━━━━━━━━━━━\u001b[0m\u001b[37m\u001b[0m \u001b[1m0s\u001b[0m 1ms/step - accuracy: 0.7304 - loss: 0.5292\n",
      "Epoch 178/200\n",
      "\u001b[1m300/300\u001b[0m \u001b[32m━━━━━━━━━━━━━━━━━━━━\u001b[0m\u001b[37m\u001b[0m \u001b[1m0s\u001b[0m 1ms/step - accuracy: 0.7344 - loss: 0.5287\n",
      "Epoch 179/200\n",
      "\u001b[1m300/300\u001b[0m \u001b[32m━━━━━━━━━━━━━━━━━━━━\u001b[0m\u001b[37m\u001b[0m \u001b[1m0s\u001b[0m 1ms/step - accuracy: 0.7293 - loss: 0.5334\n",
      "Epoch 180/200\n",
      "\u001b[1m300/300\u001b[0m \u001b[32m━━━━━━━━━━━━━━━━━━━━\u001b[0m\u001b[37m\u001b[0m \u001b[1m1s\u001b[0m 1ms/step - accuracy: 0.7387 - loss: 0.5228\n",
      "Epoch 181/200\n",
      "\u001b[1m300/300\u001b[0m \u001b[32m━━━━━━━━━━━━━━━━━━━━\u001b[0m\u001b[37m\u001b[0m \u001b[1m0s\u001b[0m 1ms/step - accuracy: 0.7306 - loss: 0.5353\n",
      "Epoch 182/200\n",
      "\u001b[1m300/300\u001b[0m \u001b[32m━━━━━━━━━━━━━━━━━━━━\u001b[0m\u001b[37m\u001b[0m \u001b[1m0s\u001b[0m 1ms/step - accuracy: 0.7373 - loss: 0.5304\n",
      "Epoch 183/200\n",
      "\u001b[1m300/300\u001b[0m \u001b[32m━━━━━━━━━━━━━━━━━━━━\u001b[0m\u001b[37m\u001b[0m \u001b[1m0s\u001b[0m 1ms/step - accuracy: 0.7297 - loss: 0.5359\n",
      "Epoch 184/200\n",
      "\u001b[1m300/300\u001b[0m \u001b[32m━━━━━━━━━━━━━━━━━━━━\u001b[0m\u001b[37m\u001b[0m \u001b[1m0s\u001b[0m 1ms/step - accuracy: 0.7359 - loss: 0.5335\n",
      "Epoch 185/200\n",
      "\u001b[1m300/300\u001b[0m \u001b[32m━━━━━━━━━━━━━━━━━━━━\u001b[0m\u001b[37m\u001b[0m \u001b[1m1s\u001b[0m 2ms/step - accuracy: 0.7306 - loss: 0.5330\n",
      "Epoch 186/200\n",
      "\u001b[1m300/300\u001b[0m \u001b[32m━━━━━━━━━━━━━━━━━━━━\u001b[0m\u001b[37m\u001b[0m \u001b[1m0s\u001b[0m 1ms/step - accuracy: 0.7211 - loss: 0.5375\n",
      "Epoch 187/200\n",
      "\u001b[1m300/300\u001b[0m \u001b[32m━━━━━━━━━━━━━━━━━━━━\u001b[0m\u001b[37m\u001b[0m \u001b[1m1s\u001b[0m 1ms/step - accuracy: 0.7245 - loss: 0.5412\n",
      "Epoch 188/200\n",
      "\u001b[1m300/300\u001b[0m \u001b[32m━━━━━━━━━━━━━━━━━━━━\u001b[0m\u001b[37m\u001b[0m \u001b[1m0s\u001b[0m 1ms/step - accuracy: 0.7332 - loss: 0.5295\n",
      "Epoch 189/200\n",
      "\u001b[1m300/300\u001b[0m \u001b[32m━━━━━━━━━━━━━━━━━━━━\u001b[0m\u001b[37m\u001b[0m \u001b[1m0s\u001b[0m 1ms/step - accuracy: 0.7264 - loss: 0.5366\n",
      "Epoch 190/200\n",
      "\u001b[1m300/300\u001b[0m \u001b[32m━━━━━━━━━━━━━━━━━━━━\u001b[0m\u001b[37m\u001b[0m \u001b[1m0s\u001b[0m 1ms/step - accuracy: 0.7240 - loss: 0.5379\n",
      "Epoch 191/200\n",
      "\u001b[1m300/300\u001b[0m \u001b[32m━━━━━━━━━━━━━━━━━━━━\u001b[0m\u001b[37m\u001b[0m \u001b[1m0s\u001b[0m 1ms/step - accuracy: 0.7333 - loss: 0.5344\n",
      "Epoch 192/200\n",
      "\u001b[1m300/300\u001b[0m \u001b[32m━━━━━━━━━━━━━━━━━━━━\u001b[0m\u001b[37m\u001b[0m \u001b[1m0s\u001b[0m 1ms/step - accuracy: 0.7319 - loss: 0.5344\n",
      "Epoch 193/200\n",
      "\u001b[1m300/300\u001b[0m \u001b[32m━━━━━━━━━━━━━━━━━━━━\u001b[0m\u001b[37m\u001b[0m \u001b[1m0s\u001b[0m 1ms/step - accuracy: 0.7330 - loss: 0.5362\n",
      "Epoch 194/200\n",
      "\u001b[1m300/300\u001b[0m \u001b[32m━━━━━━━━━━━━━━━━━━━━\u001b[0m\u001b[37m\u001b[0m \u001b[1m0s\u001b[0m 1ms/step - accuracy: 0.7335 - loss: 0.5290\n",
      "Epoch 195/200\n",
      "\u001b[1m300/300\u001b[0m \u001b[32m━━━━━━━━━━━━━━━━━━━━\u001b[0m\u001b[37m\u001b[0m \u001b[1m0s\u001b[0m 1ms/step - accuracy: 0.7292 - loss: 0.5356\n",
      "Epoch 196/200\n",
      "\u001b[1m300/300\u001b[0m \u001b[32m━━━━━━━━━━━━━━━━━━━━\u001b[0m\u001b[37m\u001b[0m \u001b[1m0s\u001b[0m 1ms/step - accuracy: 0.7321 - loss: 0.5322\n",
      "Epoch 197/200\n",
      "\u001b[1m300/300\u001b[0m \u001b[32m━━━━━━━━━━━━━━━━━━━━\u001b[0m\u001b[37m\u001b[0m \u001b[1m0s\u001b[0m 1ms/step - accuracy: 0.7316 - loss: 0.5300\n",
      "Epoch 198/200\n",
      "\u001b[1m300/300\u001b[0m \u001b[32m━━━━━━━━━━━━━━━━━━━━\u001b[0m\u001b[37m\u001b[0m \u001b[1m0s\u001b[0m 1ms/step - accuracy: 0.7187 - loss: 0.5439\n",
      "Epoch 199/200\n",
      "\u001b[1m300/300\u001b[0m \u001b[32m━━━━━━━━━━━━━━━━━━━━\u001b[0m\u001b[37m\u001b[0m \u001b[1m0s\u001b[0m 1ms/step - accuracy: 0.7322 - loss: 0.5313\n",
      "Epoch 200/200\n",
      "\u001b[1m300/300\u001b[0m \u001b[32m━━━━━━━━━━━━━━━━━━━━\u001b[0m\u001b[37m\u001b[0m \u001b[1m0s\u001b[0m 1ms/step - accuracy: 0.7266 - loss: 0.5385\n"
     ]
    },
    {
     "data": {
      "text/plain": [
       "<keras.src.callbacks.history.History at 0x18a8ff09a90>"
      ]
     },
     "execution_count": 16,
     "metadata": {},
     "output_type": "execute_result"
    }
   ],
   "source": [
    "# Ann using Tensor Flow\n",
    "import tensorflow as tf\n",
    "ann_sc = tf.keras.models.Sequential()\n",
    "# Adding the input layer and the first hidden layer\n",
    "ann_sc.add(tf.keras.layers.Dense(units=23, activation='sigmoid'))\n",
    "# Adding the output layer\n",
    "ann_sc.add(tf.keras.layers.Dense(units=1, activation='sigmoid'))\n",
    "# Compiling the ANN\n",
    "ann_sc.compile(optimizer = 'adam', loss = 'binary_crossentropy', metrics = ['accuracy'])\n",
    "ann_sc.fit(X_train_sc, y_train, batch_size = 32, epochs = 200)"
   ]
  },
  {
   "cell_type": "code",
   "execution_count": 23,
   "id": "3cfd75aa-a95b-488e-9b47-e59276634a0e",
   "metadata": {},
   "outputs": [
    {
     "name": "stdout",
     "output_type": "stream",
     "text": [
      "\u001b[1m75/75\u001b[0m \u001b[32m━━━━━━━━━━━━━━━━━━━━\u001b[0m\u001b[37m\u001b[0m \u001b[1m0s\u001b[0m 2ms/step\n"
     ]
    }
   ],
   "source": [
    "y_am_output = ann_sc.predict(X_test_sc)"
   ]
  },
  {
   "cell_type": "code",
   "execution_count": 28,
   "id": "00ba086b-9475-4772-8b22-72a6c1a5bdcd",
   "metadata": {},
   "outputs": [],
   "source": [
    "y_am_pred = predictions(y_am_output)"
   ]
  },
  {
   "cell_type": "code",
   "execution_count": 29,
   "id": "6c8a6fc9-af7a-4fa1-b649-624662bd8836",
   "metadata": {},
   "outputs": [
    {
     "data": {
      "text/plain": [
       "0.705"
      ]
     },
     "execution_count": 29,
     "metadata": {},
     "output_type": "execute_result"
    }
   ],
   "source": [
    "# Accuracy on tensor flow \n",
    "from sklearn.metrics import confusion_matrix, accuracy_score\n",
    "accuracy_score(y_test, y_am_pred)"
   ]
  },
  {
   "cell_type": "code",
   "execution_count": 198,
   "id": "1675435e-073c-482f-8675-6399b7840f88",
   "metadata": {},
   "outputs": [
    {
     "data": {
      "image/png": "[encoded data removed]",
      "text/plain": [
       "<Figure size 1000x500 with 2 Axes>"
      ]
     },
     "metadata": {},
     "output_type": "display_data"
    }
   ],
   "source": [
    "import numpy as np\n",
    "import matplotlib.pyplot as plt\n",
    "from sklearn.neural_network import MLPClassifier\n",
    "from sklearn.datasets import make_classification\n",
    "from sklearn.model_selection import train_test_split\n",
    "\n",
    "\n",
    "# Predict classes for the training and test data\n",
    "y_pred_mlp_train = mlp.predict(X_train_sc)\n",
    "y_pred_mlp_test = mlp.predict(X_test_sc)\n",
    "\n",
    "# Plot training data with predicted classes\n",
    "plt.figure(figsize=(10, 5))\n",
    "\n",
    "plt.subplot(1, 2, 1)\n",
    "plt.scatter(X_train_sc[:, 17], X_train_sc[:, 22], c=y_pred_mlp_train, cmap='coolwarm', edgecolor='k', s=100)\n",
    "plt.title('Training Data with Predicted Classes')\n",
    "plt.xlabel('Feature 1')\n",
    "plt.ylabel('Feature 2')\n",
    "\n",
    "# Plot test data with predicted classes\n",
    "plt.subplot(1, 2, 2)\n",
    "plt.scatter(X_test_sc[:, 17], X_test_sc[:, 22], c=y_pred_mlp_test, cmap='coolwarm', edgecolor='k', s=100)\n",
    "plt.title('Test Data with Predicted Classes')\n",
    "plt.xlabel('Feature 1')\n",
    "plt.ylabel('Feature 2')\n",
    "\n",
    "plt.tight_layout()\n",
    "plt.show()\n"
   ]
  },
  {
   "cell_type": "code",
   "execution_count": 68,
   "id": "c194bf8e-0250-4038-9969-9fd9ae258b80",
   "metadata": {},
   "outputs": [],
   "source": [
    "residuals = y_test.reshape(len(y_test),1) - y_pred_test"
   ]
  },
  {
   "cell_type": "code",
   "execution_count": 64,
   "id": "ac5e33bd-5805-48db-af4d-52df6744c375",
   "metadata": {},
   "outputs": [
    {
     "data": {
      "text/plain": [
       "(array([-1.,  0.,  1.]), array([1204830, 2887140, 1668030], dtype=int64))"
      ]
     },
     "execution_count": 64,
     "metadata": {},
     "output_type": "execute_result"
    }
   ],
   "source": [
    "np.unique(residuals, return_counts = True)"
   ]
  },
  {
   "cell_type": "code",
   "execution_count": 57,
   "id": "99e0f412-7dcb-46ad-98b8-6f13a684178c",
   "metadata": {},
   "outputs": [
    {
     "ename": "AttributeError",
     "evalue": "'numpy.ndarray' object has no attribute 'count'",
     "output_type": "error",
     "traceback": [
      "\u001b[1;31m---------------------------------------------------------------------------\u001b[0m",
      "\u001b[1;31mAttributeError\u001b[0m                            Traceback (most recent call last)",
      "Cell \u001b[1;32mIn[57], line 1\u001b[0m\n\u001b[1;32m----> 1\u001b[0m \u001b[43my_test\u001b[49m\u001b[38;5;241;43m.\u001b[39;49m\u001b[43mcount\u001b[49m()\n",
      "\u001b[1;31mAttributeError\u001b[0m: 'numpy.ndarray' object has no attribute 'count'"
     ]
    }
   ],
   "source": []
  },
  {
   "cell_type": "code",
   "execution_count": 69,
   "id": "b46b0c39-39be-40fb-8771-cdee31f0f76c",
   "metadata": {},
   "outputs": [
    {
     "data": {
      "text/plain": [
       "(2400, 1)"
      ]
     },
     "execution_count": 69,
     "metadata": {},
     "output_type": "execute_result"
    }
   ],
   "source": [
    "residuals.shape"
   ]
  },
  {
   "cell_type": "code",
   "execution_count": 70,
   "id": "da366d3f-8a08-4e2e-a865-9bbef51a3f0d",
   "metadata": {},
   "outputs": [
    {
     "data": {
      "text/plain": [
       "array([ 0.,  0., -1., ...,  0.,  0.,  0.])"
      ]
     },
     "execution_count": 70,
     "metadata": {},
     "output_type": "execute_result"
    }
   ],
   "source": [
    "residuals.flatten()"
   ]
  },
  {
   "cell_type": "code",
   "execution_count": null,
   "id": "d0edf528-f030-4593-96c9-944fcd94fa2a",
   "metadata": {},
   "outputs": [],
   "source": []
  }
 ],
 "metadata": {
  "kernelspec": {
   "display_name": "Python 3 (ipykernel)",
   "language": "python",
   "name": "python3"
  },
  "language_info": {
   "codemirror_mode": {
    "name": "ipython",
    "version": 3
   },
   "file_extension": ".py",
   "mimetype": "text/x-python",
   "name": "python",
   "nbconvert_exporter": "python",
   "pygments_lexer": "ipython3",
   "version": "3.12.1"
  }
 },
 "nbformat": 4,
 "nbformat_minor": 5
}
